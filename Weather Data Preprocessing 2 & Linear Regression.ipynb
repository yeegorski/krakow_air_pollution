{
 "cells": [
  {
   "cell_type": "code",
   "execution_count": 1,
   "metadata": {},
   "outputs": [],
   "source": [
    "# import necessary libraries\n",
    "import pandas as pd\n",
    "import numpy as np\n",
    "import matplotlib.pyplot as plt\n",
    "import seaborn as sns"
   ]
  },
  {
   "cell_type": "code",
   "execution_count": 2,
   "metadata": {},
   "outputs": [],
   "source": [
    "# read the preprocessed data\n",
    "df = pd.read_csv('EDA - LR.csv',index_col=0)"
   ]
  },
  {
   "cell_type": "code",
   "execution_count": 3,
   "metadata": {},
   "outputs": [
    {
     "data": {
      "text/html": [
       "<div>\n",
       "<style scoped>\n",
       "    .dataframe tbody tr th:only-of-type {\n",
       "        vertical-align: middle;\n",
       "    }\n",
       "\n",
       "    .dataframe tbody tr th {\n",
       "        vertical-align: top;\n",
       "    }\n",
       "\n",
       "    .dataframe thead th {\n",
       "        text-align: right;\n",
       "    }\n",
       "</style>\n",
       "<table border=\"1\" class=\"dataframe\">\n",
       "  <thead>\n",
       "    <tr style=\"text-align: right;\">\n",
       "      <th></th>\n",
       "      <th>time</th>\n",
       "      <th>temperature</th>\n",
       "      <th>humidity</th>\n",
       "      <th>pressure</th>\n",
       "      <th>windSpeed</th>\n",
       "      <th>cloudCover</th>\n",
       "      <th>visibility</th>\n",
       "      <th>ozone</th>\n",
       "      <th>east_wind</th>\n",
       "      <th>south_wind</th>\n",
       "      <th>west_wind</th>\n",
       "      <th>PM2</th>\n",
       "    </tr>\n",
       "  </thead>\n",
       "  <tbody>\n",
       "    <tr>\n",
       "      <td>0</td>\n",
       "      <td>2019-01-01 23:00:00</td>\n",
       "      <td>3.20</td>\n",
       "      <td>0.80</td>\n",
       "      <td>NaN</td>\n",
       "      <td>9.3</td>\n",
       "      <td>0.75</td>\n",
       "      <td>10.003</td>\n",
       "      <td>314.2</td>\n",
       "      <td>0</td>\n",
       "      <td>0</td>\n",
       "      <td>1</td>\n",
       "      <td>12.9</td>\n",
       "    </tr>\n",
       "    <tr>\n",
       "      <td>1</td>\n",
       "      <td>2019-01-02 00:00:00</td>\n",
       "      <td>2.20</td>\n",
       "      <td>0.85</td>\n",
       "      <td>NaN</td>\n",
       "      <td>8.8</td>\n",
       "      <td>0.75</td>\n",
       "      <td>10.003</td>\n",
       "      <td>315.5</td>\n",
       "      <td>0</td>\n",
       "      <td>0</td>\n",
       "      <td>1</td>\n",
       "      <td>5.5</td>\n",
       "    </tr>\n",
       "    <tr>\n",
       "      <td>2</td>\n",
       "      <td>2019-01-02 01:00:00</td>\n",
       "      <td>2.20</td>\n",
       "      <td>0.79</td>\n",
       "      <td>NaN</td>\n",
       "      <td>7.2</td>\n",
       "      <td>0.75</td>\n",
       "      <td>10.003</td>\n",
       "      <td>315.7</td>\n",
       "      <td>0</td>\n",
       "      <td>0</td>\n",
       "      <td>1</td>\n",
       "      <td>4.7</td>\n",
       "    </tr>\n",
       "    <tr>\n",
       "      <td>3</td>\n",
       "      <td>2019-01-02 02:00:00</td>\n",
       "      <td>1.20</td>\n",
       "      <td>0.92</td>\n",
       "      <td>NaN</td>\n",
       "      <td>7.2</td>\n",
       "      <td>0.75</td>\n",
       "      <td>2.003</td>\n",
       "      <td>316.5</td>\n",
       "      <td>0</td>\n",
       "      <td>0</td>\n",
       "      <td>1</td>\n",
       "      <td>5.7</td>\n",
       "    </tr>\n",
       "    <tr>\n",
       "      <td>4</td>\n",
       "      <td>2019-01-02 03:00:00</td>\n",
       "      <td>0.22</td>\n",
       "      <td>0.99</td>\n",
       "      <td>NaN</td>\n",
       "      <td>7.2</td>\n",
       "      <td>0.75</td>\n",
       "      <td>1.498</td>\n",
       "      <td>318.5</td>\n",
       "      <td>0</td>\n",
       "      <td>0</td>\n",
       "      <td>1</td>\n",
       "      <td>6.1</td>\n",
       "    </tr>\n",
       "  </tbody>\n",
       "</table>\n",
       "</div>"
      ],
      "text/plain": [
       "                  time  temperature  humidity  pressure  windSpeed  \\\n",
       "0  2019-01-01 23:00:00         3.20      0.80       NaN        9.3   \n",
       "1  2019-01-02 00:00:00         2.20      0.85       NaN        8.8   \n",
       "2  2019-01-02 01:00:00         2.20      0.79       NaN        7.2   \n",
       "3  2019-01-02 02:00:00         1.20      0.92       NaN        7.2   \n",
       "4  2019-01-02 03:00:00         0.22      0.99       NaN        7.2   \n",
       "\n",
       "   cloudCover  visibility  ozone  east_wind  south_wind  west_wind   PM2  \n",
       "0        0.75      10.003  314.2          0           0          1  12.9  \n",
       "1        0.75      10.003  315.5          0           0          1   5.5  \n",
       "2        0.75      10.003  315.7          0           0          1   4.7  \n",
       "3        0.75       2.003  316.5          0           0          1   5.7  \n",
       "4        0.75       1.498  318.5          0           0          1   6.1  "
      ]
     },
     "execution_count": 3,
     "metadata": {},
     "output_type": "execute_result"
    }
   ],
   "source": [
    "df.head()"
   ]
  },
  {
   "cell_type": "code",
   "execution_count": 4,
   "metadata": {},
   "outputs": [
    {
     "name": "stdout",
     "output_type": "stream",
     "text": [
      "<class 'pandas.core.frame.DataFrame'>\n",
      "Int64Index: 16895 entries, 0 to 16894\n",
      "Data columns (total 12 columns):\n",
      "time           16895 non-null object\n",
      "temperature    16895 non-null float64\n",
      "humidity       16895 non-null float64\n",
      "pressure       14084 non-null float64\n",
      "windSpeed      16724 non-null float64\n",
      "cloudCover     15890 non-null float64\n",
      "visibility     16865 non-null float64\n",
      "ozone          16895 non-null float64\n",
      "east_wind      16895 non-null int64\n",
      "south_wind     16895 non-null int64\n",
      "west_wind      16895 non-null int64\n",
      "PM2            16895 non-null float64\n",
      "dtypes: float64(8), int64(3), object(1)\n",
      "memory usage: 1.7+ MB\n"
     ]
    }
   ],
   "source": [
    "df.info()"
   ]
  },
  {
   "cell_type": "code",
   "execution_count": 5,
   "metadata": {},
   "outputs": [],
   "source": [
    "# remove outliers for the data set\n",
    "# checkpoint\n",
    "df_no_outl = df[df['PM2']<=150]"
   ]
  },
  {
   "cell_type": "code",
   "execution_count": 6,
   "metadata": {},
   "outputs": [],
   "source": [
    "# drop rows with unknown values\n",
    "df_dropna = df_no_outl.dropna().reset_index()"
   ]
  },
  {
   "cell_type": "code",
   "execution_count": 7,
   "metadata": {},
   "outputs": [],
   "source": [
    "# drop columns with unknown values\n",
    "df_drop_col = df_no_outl.drop(['pressure','cloudCover'], axis=1)"
   ]
  },
  {
   "cell_type": "code",
   "execution_count": 8,
   "metadata": {},
   "outputs": [],
   "source": [
    "# convert dates to datetime format\n",
    "df_dropna['time'] = pd.to_datetime(df_dropna['time'],format = '%Y-%m-%d %H:%M:%S')"
   ]
  },
  {
   "cell_type": "code",
   "execution_count": 9,
   "metadata": {},
   "outputs": [],
   "source": [
    "# create new feature month\n",
    "df_dropna['month'] = df_dropna['time'].apply(lambda time: time.month)"
   ]
  },
  {
   "cell_type": "code",
   "execution_count": 10,
   "metadata": {},
   "outputs": [],
   "source": [
    "# create new feature hour\n",
    "df_dropna['hour'] = df_dropna['time'].apply(lambda time: time.hour)"
   ]
  },
  {
   "cell_type": "code",
   "execution_count": 11,
   "metadata": {},
   "outputs": [],
   "source": [
    "# create new feature weekday\n",
    "df_dropna['weekday'] = df_dropna['time'].apply(lambda time: time.weekday())"
   ]
  },
  {
   "cell_type": "code",
   "execution_count": 12,
   "metadata": {},
   "outputs": [
    {
     "data": {
      "image/png": "[encoded data removed]",
      "text/plain": [
       "<Figure size 432x288 with 1 Axes>"
      ]
     },
     "metadata": {
      "needs_background": "light"
     },
     "output_type": "display_data"
    }
   ],
   "source": [
    "plt.scatter(df_dropna['month'],df_dropna['PM2']);"
   ]
  },
  {
   "cell_type": "code",
   "execution_count": 13,
   "metadata": {},
   "outputs": [
    {
     "data": {
      "image/png": "[encoded data removed]",
      "text/plain": [
       "<Figure size 432x288 with 1 Axes>"
      ]
     },
     "metadata": {
      "needs_background": "light"
     },
     "output_type": "display_data"
    }
   ],
   "source": [
    "plt.scatter(df_dropna['hour'],df_dropna['PM2']);"
   ]
  },
  {
   "cell_type": "code",
   "execution_count": 14,
   "metadata": {},
   "outputs": [
    {
     "data": {
      "image/png": "[encoded data removed]",
      "text/plain": [
       "<Figure size 432x288 with 1 Axes>"
      ]
     },
     "metadata": {
      "needs_background": "light"
     },
     "output_type": "display_data"
    }
   ],
   "source": [
    "plt.scatter(df_dropna['weekday'],df_dropna['PM2'],alpha = 0.5);"
   ]
  },
  {
   "cell_type": "code",
   "execution_count": 15,
   "metadata": {},
   "outputs": [],
   "source": [
    "# create checkpoint\n",
    "df_time = df_dropna.copy()"
   ]
  },
  {
   "cell_type": "code",
   "execution_count": 16,
   "metadata": {},
   "outputs": [],
   "source": [
    "# create dummy variables from month (by seasons), hour (by part of the day), and weekday (weekend or not)\n",
    "def month_map(month):\n",
    "    if month in [12,1,2]:\n",
    "        return 'winter'\n",
    "    elif month in [3,4,5]:\n",
    "        return 'spring'\n",
    "    elif month in [6,7,8]:\n",
    "        return 'summer'\n",
    "    else:\n",
    "        return 'fall'\n",
    "\n",
    "def hour_map(hour):\n",
    "    if hour in range(0,7):\n",
    "        return 'night'\n",
    "    elif hour in range(7,13):\n",
    "        return 'morning'\n",
    "    elif hour in range(13,19):\n",
    "        return 'afternoon'\n",
    "    else:\n",
    "        return 'evening'\n",
    "    \n",
    "def weekday_map(weekday):\n",
    "    if weekday in range(0,5):\n",
    "        return 'workday'\n",
    "    else:\n",
    "        return 'weekend'\n",
    "    \n",
    "df_time['month'] = df_time['month'].apply(month_map)\n",
    "df_time['hour'] = df_time['hour'].apply(hour_map)\n",
    "df_time['weekday'] = df_time['weekday'].apply(weekday_map)"
   ]
  },
  {
   "cell_type": "code",
   "execution_count": 17,
   "metadata": {},
   "outputs": [
    {
     "data": {
      "text/html": [
       "<div>\n",
       "<style scoped>\n",
       "    .dataframe tbody tr th:only-of-type {\n",
       "        vertical-align: middle;\n",
       "    }\n",
       "\n",
       "    .dataframe tbody tr th {\n",
       "        vertical-align: top;\n",
       "    }\n",
       "\n",
       "    .dataframe thead th {\n",
       "        text-align: right;\n",
       "    }\n",
       "</style>\n",
       "<table border=\"1\" class=\"dataframe\">\n",
       "  <thead>\n",
       "    <tr style=\"text-align: right;\">\n",
       "      <th></th>\n",
       "      <th>index</th>\n",
       "      <th>time</th>\n",
       "      <th>temperature</th>\n",
       "      <th>humidity</th>\n",
       "      <th>pressure</th>\n",
       "      <th>windSpeed</th>\n",
       "      <th>cloudCover</th>\n",
       "      <th>visibility</th>\n",
       "      <th>ozone</th>\n",
       "      <th>east_wind</th>\n",
       "      <th>south_wind</th>\n",
       "      <th>west_wind</th>\n",
       "      <th>PM2</th>\n",
       "      <th>month</th>\n",
       "      <th>hour</th>\n",
       "      <th>weekday</th>\n",
       "    </tr>\n",
       "  </thead>\n",
       "  <tbody>\n",
       "    <tr>\n",
       "      <td>0</td>\n",
       "      <td>2811</td>\n",
       "      <td>2019-05-01 20:00:00</td>\n",
       "      <td>11.82</td>\n",
       "      <td>0.70</td>\n",
       "      <td>1007.1</td>\n",
       "      <td>3.94</td>\n",
       "      <td>0.56</td>\n",
       "      <td>14.470</td>\n",
       "      <td>392.8</td>\n",
       "      <td>0</td>\n",
       "      <td>0</td>\n",
       "      <td>1</td>\n",
       "      <td>16.2</td>\n",
       "      <td>spring</td>\n",
       "      <td>evening</td>\n",
       "      <td>workday</td>\n",
       "    </tr>\n",
       "    <tr>\n",
       "      <td>1</td>\n",
       "      <td>2812</td>\n",
       "      <td>2019-05-01 21:00:00</td>\n",
       "      <td>11.34</td>\n",
       "      <td>0.82</td>\n",
       "      <td>1007.3</td>\n",
       "      <td>4.19</td>\n",
       "      <td>0.75</td>\n",
       "      <td>11.226</td>\n",
       "      <td>390.9</td>\n",
       "      <td>0</td>\n",
       "      <td>0</td>\n",
       "      <td>1</td>\n",
       "      <td>18.8</td>\n",
       "      <td>spring</td>\n",
       "      <td>evening</td>\n",
       "      <td>workday</td>\n",
       "    </tr>\n",
       "    <tr>\n",
       "      <td>2</td>\n",
       "      <td>2813</td>\n",
       "      <td>2019-05-01 22:00:00</td>\n",
       "      <td>11.07</td>\n",
       "      <td>0.87</td>\n",
       "      <td>1007.1</td>\n",
       "      <td>4.34</td>\n",
       "      <td>0.80</td>\n",
       "      <td>11.814</td>\n",
       "      <td>389.6</td>\n",
       "      <td>0</td>\n",
       "      <td>0</td>\n",
       "      <td>1</td>\n",
       "      <td>22.6</td>\n",
       "      <td>spring</td>\n",
       "      <td>evening</td>\n",
       "      <td>workday</td>\n",
       "    </tr>\n",
       "    <tr>\n",
       "      <td>3</td>\n",
       "      <td>2814</td>\n",
       "      <td>2019-05-01 23:00:00</td>\n",
       "      <td>10.98</td>\n",
       "      <td>0.89</td>\n",
       "      <td>1006.8</td>\n",
       "      <td>4.63</td>\n",
       "      <td>0.80</td>\n",
       "      <td>14.340</td>\n",
       "      <td>388.6</td>\n",
       "      <td>0</td>\n",
       "      <td>0</td>\n",
       "      <td>1</td>\n",
       "      <td>16.2</td>\n",
       "      <td>spring</td>\n",
       "      <td>evening</td>\n",
       "      <td>workday</td>\n",
       "    </tr>\n",
       "    <tr>\n",
       "      <td>4</td>\n",
       "      <td>2815</td>\n",
       "      <td>2019-05-02 00:00:00</td>\n",
       "      <td>10.85</td>\n",
       "      <td>0.92</td>\n",
       "      <td>1006.3</td>\n",
       "      <td>4.34</td>\n",
       "      <td>0.76</td>\n",
       "      <td>16.093</td>\n",
       "      <td>389.1</td>\n",
       "      <td>0</td>\n",
       "      <td>0</td>\n",
       "      <td>1</td>\n",
       "      <td>18.5</td>\n",
       "      <td>spring</td>\n",
       "      <td>night</td>\n",
       "      <td>workday</td>\n",
       "    </tr>\n",
       "  </tbody>\n",
       "</table>\n",
       "</div>"
      ],
      "text/plain": [
       "   index                time  temperature  humidity  pressure  windSpeed  \\\n",
       "0   2811 2019-05-01 20:00:00        11.82      0.70    1007.1       3.94   \n",
       "1   2812 2019-05-01 21:00:00        11.34      0.82    1007.3       4.19   \n",
       "2   2813 2019-05-01 22:00:00        11.07      0.87    1007.1       4.34   \n",
       "3   2814 2019-05-01 23:00:00        10.98      0.89    1006.8       4.63   \n",
       "4   2815 2019-05-02 00:00:00        10.85      0.92    1006.3       4.34   \n",
       "\n",
       "   cloudCover  visibility  ozone  east_wind  south_wind  west_wind   PM2  \\\n",
       "0        0.56      14.470  392.8          0           0          1  16.2   \n",
       "1        0.75      11.226  390.9          0           0          1  18.8   \n",
       "2        0.80      11.814  389.6          0           0          1  22.6   \n",
       "3        0.80      14.340  388.6          0           0          1  16.2   \n",
       "4        0.76      16.093  389.1          0           0          1  18.5   \n",
       "\n",
       "    month     hour  weekday  \n",
       "0  spring  evening  workday  \n",
       "1  spring  evening  workday  \n",
       "2  spring  evening  workday  \n",
       "3  spring  evening  workday  \n",
       "4  spring    night  workday  "
      ]
     },
     "execution_count": 17,
     "metadata": {},
     "output_type": "execute_result"
    }
   ],
   "source": [
    "df_time.head()"
   ]
  },
  {
   "cell_type": "code",
   "execution_count": 18,
   "metadata": {},
   "outputs": [],
   "source": [
    "# create checkpoint\n",
    "df_time_dummies = df_time.copy()"
   ]
  },
  {
   "cell_type": "code",
   "execution_count": 19,
   "metadata": {},
   "outputs": [],
   "source": [
    "season_columns = pd.get_dummies(df_time_dummies['month'], drop_first = True)\n",
    "daypart_columns = pd.get_dummies(df_time_dummies['hour'], drop_first = True)\n",
    "weekend_columns = pd.get_dummies(df_time_dummies['weekday'], drop_first = True)"
   ]
  },
  {
   "cell_type": "code",
   "execution_count": 20,
   "metadata": {},
   "outputs": [],
   "source": [
    "# concatenate column values\n",
    "# create checkpoint\n",
    "df_dummies = pd.concat([df_time_dummies,season_columns,daypart_columns,weekend_columns], axis = 1)"
   ]
  },
  {
   "cell_type": "code",
   "execution_count": 21,
   "metadata": {},
   "outputs": [
    {
     "data": {
      "text/html": [
       "<div>\n",
       "<style scoped>\n",
       "    .dataframe tbody tr th:only-of-type {\n",
       "        vertical-align: middle;\n",
       "    }\n",
       "\n",
       "    .dataframe tbody tr th {\n",
       "        vertical-align: top;\n",
       "    }\n",
       "\n",
       "    .dataframe thead th {\n",
       "        text-align: right;\n",
       "    }\n",
       "</style>\n",
       "<table border=\"1\" class=\"dataframe\">\n",
       "  <thead>\n",
       "    <tr style=\"text-align: right;\">\n",
       "      <th></th>\n",
       "      <th>index</th>\n",
       "      <th>time</th>\n",
       "      <th>temperature</th>\n",
       "      <th>humidity</th>\n",
       "      <th>pressure</th>\n",
       "      <th>windSpeed</th>\n",
       "      <th>cloudCover</th>\n",
       "      <th>visibility</th>\n",
       "      <th>ozone</th>\n",
       "      <th>east_wind</th>\n",
       "      <th>...</th>\n",
       "      <th>month</th>\n",
       "      <th>hour</th>\n",
       "      <th>weekday</th>\n",
       "      <th>spring</th>\n",
       "      <th>summer</th>\n",
       "      <th>winter</th>\n",
       "      <th>evening</th>\n",
       "      <th>morning</th>\n",
       "      <th>night</th>\n",
       "      <th>workday</th>\n",
       "    </tr>\n",
       "  </thead>\n",
       "  <tbody>\n",
       "    <tr>\n",
       "      <td>0</td>\n",
       "      <td>2811</td>\n",
       "      <td>2019-05-01 20:00:00</td>\n",
       "      <td>11.82</td>\n",
       "      <td>0.70</td>\n",
       "      <td>1007.1</td>\n",
       "      <td>3.94</td>\n",
       "      <td>0.56</td>\n",
       "      <td>14.470</td>\n",
       "      <td>392.8</td>\n",
       "      <td>0</td>\n",
       "      <td>...</td>\n",
       "      <td>spring</td>\n",
       "      <td>evening</td>\n",
       "      <td>workday</td>\n",
       "      <td>1</td>\n",
       "      <td>0</td>\n",
       "      <td>0</td>\n",
       "      <td>1</td>\n",
       "      <td>0</td>\n",
       "      <td>0</td>\n",
       "      <td>1</td>\n",
       "    </tr>\n",
       "    <tr>\n",
       "      <td>1</td>\n",
       "      <td>2812</td>\n",
       "      <td>2019-05-01 21:00:00</td>\n",
       "      <td>11.34</td>\n",
       "      <td>0.82</td>\n",
       "      <td>1007.3</td>\n",
       "      <td>4.19</td>\n",
       "      <td>0.75</td>\n",
       "      <td>11.226</td>\n",
       "      <td>390.9</td>\n",
       "      <td>0</td>\n",
       "      <td>...</td>\n",
       "      <td>spring</td>\n",
       "      <td>evening</td>\n",
       "      <td>workday</td>\n",
       "      <td>1</td>\n",
       "      <td>0</td>\n",
       "      <td>0</td>\n",
       "      <td>1</td>\n",
       "      <td>0</td>\n",
       "      <td>0</td>\n",
       "      <td>1</td>\n",
       "    </tr>\n",
       "    <tr>\n",
       "      <td>2</td>\n",
       "      <td>2813</td>\n",
       "      <td>2019-05-01 22:00:00</td>\n",
       "      <td>11.07</td>\n",
       "      <td>0.87</td>\n",
       "      <td>1007.1</td>\n",
       "      <td>4.34</td>\n",
       "      <td>0.80</td>\n",
       "      <td>11.814</td>\n",
       "      <td>389.6</td>\n",
       "      <td>0</td>\n",
       "      <td>...</td>\n",
       "      <td>spring</td>\n",
       "      <td>evening</td>\n",
       "      <td>workday</td>\n",
       "      <td>1</td>\n",
       "      <td>0</td>\n",
       "      <td>0</td>\n",
       "      <td>1</td>\n",
       "      <td>0</td>\n",
       "      <td>0</td>\n",
       "      <td>1</td>\n",
       "    </tr>\n",
       "    <tr>\n",
       "      <td>3</td>\n",
       "      <td>2814</td>\n",
       "      <td>2019-05-01 23:00:00</td>\n",
       "      <td>10.98</td>\n",
       "      <td>0.89</td>\n",
       "      <td>1006.8</td>\n",
       "      <td>4.63</td>\n",
       "      <td>0.80</td>\n",
       "      <td>14.340</td>\n",
       "      <td>388.6</td>\n",
       "      <td>0</td>\n",
       "      <td>...</td>\n",
       "      <td>spring</td>\n",
       "      <td>evening</td>\n",
       "      <td>workday</td>\n",
       "      <td>1</td>\n",
       "      <td>0</td>\n",
       "      <td>0</td>\n",
       "      <td>1</td>\n",
       "      <td>0</td>\n",
       "      <td>0</td>\n",
       "      <td>1</td>\n",
       "    </tr>\n",
       "    <tr>\n",
       "      <td>4</td>\n",
       "      <td>2815</td>\n",
       "      <td>2019-05-02 00:00:00</td>\n",
       "      <td>10.85</td>\n",
       "      <td>0.92</td>\n",
       "      <td>1006.3</td>\n",
       "      <td>4.34</td>\n",
       "      <td>0.76</td>\n",
       "      <td>16.093</td>\n",
       "      <td>389.1</td>\n",
       "      <td>0</td>\n",
       "      <td>...</td>\n",
       "      <td>spring</td>\n",
       "      <td>night</td>\n",
       "      <td>workday</td>\n",
       "      <td>1</td>\n",
       "      <td>0</td>\n",
       "      <td>0</td>\n",
       "      <td>0</td>\n",
       "      <td>0</td>\n",
       "      <td>1</td>\n",
       "      <td>1</td>\n",
       "    </tr>\n",
       "  </tbody>\n",
       "</table>\n",
       "<p>5 rows × 23 columns</p>\n",
       "</div>"
      ],
      "text/plain": [
       "   index                time  temperature  humidity  pressure  windSpeed  \\\n",
       "0   2811 2019-05-01 20:00:00        11.82      0.70    1007.1       3.94   \n",
       "1   2812 2019-05-01 21:00:00        11.34      0.82    1007.3       4.19   \n",
       "2   2813 2019-05-01 22:00:00        11.07      0.87    1007.1       4.34   \n",
       "3   2814 2019-05-01 23:00:00        10.98      0.89    1006.8       4.63   \n",
       "4   2815 2019-05-02 00:00:00        10.85      0.92    1006.3       4.34   \n",
       "\n",
       "   cloudCover  visibility  ozone  east_wind  ...   month     hour  weekday  \\\n",
       "0        0.56      14.470  392.8          0  ...  spring  evening  workday   \n",
       "1        0.75      11.226  390.9          0  ...  spring  evening  workday   \n",
       "2        0.80      11.814  389.6          0  ...  spring  evening  workday   \n",
       "3        0.80      14.340  388.6          0  ...  spring  evening  workday   \n",
       "4        0.76      16.093  389.1          0  ...  spring    night  workday   \n",
       "\n",
       "  spring summer winter  evening  morning  night  workday  \n",
       "0      1      0      0        1        0      0        1  \n",
       "1      1      0      0        1        0      0        1  \n",
       "2      1      0      0        1        0      0        1  \n",
       "3      1      0      0        1        0      0        1  \n",
       "4      1      0      0        0        0      1        1  \n",
       "\n",
       "[5 rows x 23 columns]"
      ]
     },
     "execution_count": 21,
     "metadata": {},
     "output_type": "execute_result"
    }
   ],
   "source": [
    "df_dummies.head()"
   ]
  },
  {
   "cell_type": "code",
   "execution_count": 22,
   "metadata": {},
   "outputs": [],
   "source": [
    "# drop time, month, hour, weekday columns\n",
    "# checkpoint\n",
    "df_prep = df_dummies.drop(['time','month','hour','weekday'], axis = 1)"
   ]
  },
  {
   "cell_type": "code",
   "execution_count": 23,
   "metadata": {},
   "outputs": [
    {
     "data": {
      "text/plain": [
       "array(['index', 'temperature', 'humidity', 'pressure', 'windSpeed',\n",
       "       'cloudCover', 'visibility', 'ozone', 'east_wind', 'south_wind',\n",
       "       'west_wind', 'PM2', 'spring', 'summer', 'winter', 'evening',\n",
       "       'morning', 'night', 'workday'], dtype=object)"
      ]
     },
     "execution_count": 23,
     "metadata": {},
     "output_type": "execute_result"
    }
   ],
   "source": [
    "df_prep.columns.values"
   ]
  },
  {
   "cell_type": "code",
   "execution_count": 24,
   "metadata": {},
   "outputs": [],
   "source": [
    "df_prep = df_prep[['temperature', 'humidity', 'pressure', 'windSpeed', 'cloudCover',\n",
    "       'visibility', 'ozone', 'east_wind', 'south_wind', 'west_wind', 'spring', 'summer', 'winter', 'evening', 'morning', 'night',\n",
    "       'workday','PM2']]"
   ]
  },
  {
   "cell_type": "code",
   "execution_count": 25,
   "metadata": {},
   "outputs": [
    {
     "name": "stdout",
     "output_type": "stream",
     "text": [
      "<class 'pandas.core.frame.DataFrame'>\n",
      "RangeIndex: 14070 entries, 0 to 14069\n",
      "Data columns (total 18 columns):\n",
      "temperature    14070 non-null float64\n",
      "humidity       14070 non-null float64\n",
      "pressure       14070 non-null float64\n",
      "windSpeed      14070 non-null float64\n",
      "cloudCover     14070 non-null float64\n",
      "visibility     14070 non-null float64\n",
      "ozone          14070 non-null float64\n",
      "east_wind      14070 non-null int64\n",
      "south_wind     14070 non-null int64\n",
      "west_wind      14070 non-null int64\n",
      "spring         14070 non-null uint8\n",
      "summer         14070 non-null uint8\n",
      "winter         14070 non-null uint8\n",
      "evening        14070 non-null uint8\n",
      "morning        14070 non-null uint8\n",
      "night          14070 non-null uint8\n",
      "workday        14070 non-null uint8\n",
      "PM2            14070 non-null float64\n",
      "dtypes: float64(8), int64(3), uint8(7)\n",
      "memory usage: 1.3 MB\n"
     ]
    }
   ],
   "source": [
    "df_prep.info()"
   ]
  },
  {
   "cell_type": "code",
   "execution_count": 26,
   "metadata": {},
   "outputs": [],
   "source": [
    "unscaled_inputs = df_prep.iloc[:,:-1]"
   ]
  },
  {
   "cell_type": "code",
   "execution_count": 27,
   "metadata": {
    "scrolled": true
   },
   "outputs": [
    {
     "name": "stdout",
     "output_type": "stream",
     "text": [
      "<class 'pandas.core.frame.DataFrame'>\n",
      "RangeIndex: 14070 entries, 0 to 14069\n",
      "Data columns (total 17 columns):\n",
      "temperature    14070 non-null float64\n",
      "humidity       14070 non-null float64\n",
      "pressure       14070 non-null float64\n",
      "windSpeed      14070 non-null float64\n",
      "cloudCover     14070 non-null float64\n",
      "visibility     14070 non-null float64\n",
      "ozone          14070 non-null float64\n",
      "east_wind      14070 non-null int64\n",
      "south_wind     14070 non-null int64\n",
      "west_wind      14070 non-null int64\n",
      "spring         14070 non-null uint8\n",
      "summer         14070 non-null uint8\n",
      "winter         14070 non-null uint8\n",
      "evening        14070 non-null uint8\n",
      "morning        14070 non-null uint8\n",
      "night          14070 non-null uint8\n",
      "workday        14070 non-null uint8\n",
      "dtypes: float64(7), int64(3), uint8(7)\n",
      "memory usage: 1.2 MB\n"
     ]
    }
   ],
   "source": [
    "unscaled_inputs.info()"
   ]
  },
  {
   "cell_type": "code",
   "execution_count": 28,
   "metadata": {},
   "outputs": [],
   "source": [
    "columns_to_omit = ['east_wind', 'south_wind', 'west_wind', 'spring', 'summer', 'winter', 'evening', 'morning', 'night',\n",
    "       'workday']"
   ]
  },
  {
   "cell_type": "code",
   "execution_count": 29,
   "metadata": {
    "scrolled": true
   },
   "outputs": [
    {
     "data": {
      "text/plain": [
       "['temperature',\n",
       " 'humidity',\n",
       " 'pressure',\n",
       " 'windSpeed',\n",
       " 'cloudCover',\n",
       " 'visibility',\n",
       " 'ozone']"
      ]
     },
     "execution_count": 29,
     "metadata": {},
     "output_type": "execute_result"
    }
   ],
   "source": [
    "columns_to_scale = [column for column in unscaled_inputs.columns.values if column not in columns_to_omit]\n",
    "columns_to_scale"
   ]
  },
  {
   "cell_type": "code",
   "execution_count": 30,
   "metadata": {},
   "outputs": [],
   "source": [
    "from sklearn.base import BaseEstimator, TransformerMixin\n",
    "from sklearn.preprocessing import StandardScaler\n",
    "\n",
    "class CustomScaler(BaseEstimator, TransformerMixin):\n",
    "    \n",
    "    def __init__(self,columns,copy=True, with_mean=True, with_std=True):\n",
    "        self.scaler = StandardScaler(copy,with_mean,with_std)\n",
    "        self.columns = columns\n",
    "        self.mean_ = None\n",
    "        self.var_ = None\n",
    "        \n",
    "    def fit(self, X, y = None):\n",
    "        self.scaler.fit(X[self.columns], y)\n",
    "        self.mean_ = np.mean(X[self.columns])\n",
    "        self.var_ = np.var(X[self.columns])\n",
    "        \n",
    "    def transform(self, X, y = None, copy = None):\n",
    "        init_col_order = X.columns\n",
    "        X_scaled = pd.DataFrame(self.scaler.transform(X[self.columns]), columns = self.columns)\n",
    "        X_not_scaled = X.loc[:,~X.columns.isin(self.columns)]\n",
    "        return pd.concat([X_not_scaled,X_scaled], axis = 1)[init_col_order]"
   ]
  },
  {
   "cell_type": "code",
   "execution_count": 31,
   "metadata": {},
   "outputs": [],
   "source": [
    "smog_scaler = CustomScaler(columns_to_scale)"
   ]
  },
  {
   "cell_type": "code",
   "execution_count": 32,
   "metadata": {},
   "outputs": [
    {
     "data": {
      "text/plain": [
       "['temperature',\n",
       " 'humidity',\n",
       " 'pressure',\n",
       " 'windSpeed',\n",
       " 'cloudCover',\n",
       " 'visibility',\n",
       " 'ozone']"
      ]
     },
     "execution_count": 32,
     "metadata": {},
     "output_type": "execute_result"
    }
   ],
   "source": [
    "smog_scaler.columns"
   ]
  },
  {
   "cell_type": "code",
   "execution_count": 33,
   "metadata": {},
   "outputs": [],
   "source": [
    "smog_scaler.fit(unscaled_inputs)"
   ]
  },
  {
   "cell_type": "code",
   "execution_count": 34,
   "metadata": {},
   "outputs": [],
   "source": [
    "scaled_inputs = smog_scaler.transform(unscaled_inputs)"
   ]
  },
  {
   "cell_type": "code",
   "execution_count": 35,
   "metadata": {},
   "outputs": [
    {
     "name": "stdout",
     "output_type": "stream",
     "text": [
      "<class 'pandas.core.frame.DataFrame'>\n",
      "RangeIndex: 14070 entries, 0 to 14069\n",
      "Data columns (total 17 columns):\n",
      "temperature    14070 non-null float64\n",
      "humidity       14070 non-null float64\n",
      "pressure       14070 non-null float64\n",
      "windSpeed      14070 non-null float64\n",
      "cloudCover     14070 non-null float64\n",
      "visibility     14070 non-null float64\n",
      "ozone          14070 non-null float64\n",
      "east_wind      14070 non-null int64\n",
      "south_wind     14070 non-null int64\n",
      "west_wind      14070 non-null int64\n",
      "spring         14070 non-null uint8\n",
      "summer         14070 non-null uint8\n",
      "winter         14070 non-null uint8\n",
      "evening        14070 non-null uint8\n",
      "morning        14070 non-null uint8\n",
      "night          14070 non-null uint8\n",
      "workday        14070 non-null uint8\n",
      "dtypes: float64(7), int64(3), uint8(7)\n",
      "memory usage: 1.2 MB\n"
     ]
    }
   ],
   "source": [
    "scaled_inputs.info()"
   ]
  },
  {
   "cell_type": "code",
   "execution_count": 36,
   "metadata": {},
   "outputs": [
    {
     "data": {
      "text/plain": [
       "(14070, 17)"
      ]
     },
     "execution_count": 36,
     "metadata": {},
     "output_type": "execute_result"
    }
   ],
   "source": [
    "scaled_inputs.shape"
   ]
  },
  {
   "cell_type": "code",
   "execution_count": 37,
   "metadata": {},
   "outputs": [],
   "source": [
    "targets = df_prep['PM2']"
   ]
  },
  {
   "cell_type": "code",
   "execution_count": 38,
   "metadata": {},
   "outputs": [],
   "source": [
    "# Train Test Split\n",
    "from sklearn.model_selection import train_test_split"
   ]
  },
  {
   "cell_type": "code",
   "execution_count": 39,
   "metadata": {},
   "outputs": [],
   "source": [
    "X_train, X_test, y_train, y_test = train_test_split(scaled_inputs, targets, test_size=0.2, random_state=101)"
   ]
  },
  {
   "cell_type": "code",
   "execution_count": 40,
   "metadata": {
    "scrolled": true
   },
   "outputs": [
    {
     "name": "stdout",
     "output_type": "stream",
     "text": [
      "(11256, 17) (11256,)\n"
     ]
    }
   ],
   "source": [
    "print(X_train.shape, y_train.shape)"
   ]
  },
  {
   "cell_type": "code",
   "execution_count": 41,
   "metadata": {},
   "outputs": [],
   "source": [
    "# Linear regression with sklearn"
   ]
  },
  {
   "cell_type": "code",
   "execution_count": 42,
   "metadata": {},
   "outputs": [],
   "source": [
    "from sklearn.linear_model import LinearRegression"
   ]
  },
  {
   "cell_type": "code",
   "execution_count": 43,
   "metadata": {},
   "outputs": [],
   "source": [
    "reg = LinearRegression()"
   ]
  },
  {
   "cell_type": "code",
   "execution_count": 44,
   "metadata": {},
   "outputs": [
    {
     "data": {
      "text/plain": [
       "LinearRegression(copy_X=True, fit_intercept=True, n_jobs=None, normalize=False)"
      ]
     },
     "execution_count": 44,
     "metadata": {},
     "output_type": "execute_result"
    }
   ],
   "source": [
    "reg.fit(X_train,y_train)"
   ]
  },
  {
   "cell_type": "code",
   "execution_count": 45,
   "metadata": {},
   "outputs": [
    {
     "data": {
      "text/plain": [
       "0.4442664317266086"
      ]
     },
     "execution_count": 45,
     "metadata": {},
     "output_type": "execute_result"
    }
   ],
   "source": [
    "reg.score(X_train,y_train)"
   ]
  },
  {
   "cell_type": "code",
   "execution_count": 46,
   "metadata": {},
   "outputs": [],
   "source": [
    "# create summary table with all coefficients and intercept\n",
    "feature_name = unscaled_inputs.columns.values"
   ]
  },
  {
   "cell_type": "code",
   "execution_count": 47,
   "metadata": {},
   "outputs": [],
   "source": [
    "summary_table = pd.DataFrame(columns = ['Feature name'],data = feature_name)"
   ]
  },
  {
   "cell_type": "code",
   "execution_count": 48,
   "metadata": {},
   "outputs": [],
   "source": [
    "summary_table['Coefficient'] = np.transpose(reg.coef_)"
   ]
  },
  {
   "cell_type": "code",
   "execution_count": 49,
   "metadata": {},
   "outputs": [
    {
     "data": {
      "text/html": [
       "<div>\n",
       "<style scoped>\n",
       "    .dataframe tbody tr th:only-of-type {\n",
       "        vertical-align: middle;\n",
       "    }\n",
       "\n",
       "    .dataframe tbody tr th {\n",
       "        vertical-align: top;\n",
       "    }\n",
       "\n",
       "    .dataframe thead th {\n",
       "        text-align: right;\n",
       "    }\n",
       "</style>\n",
       "<table border=\"1\" class=\"dataframe\">\n",
       "  <thead>\n",
       "    <tr style=\"text-align: right;\">\n",
       "      <th></th>\n",
       "      <th>Feature name</th>\n",
       "      <th>Coefficient</th>\n",
       "    </tr>\n",
       "  </thead>\n",
       "  <tbody>\n",
       "    <tr>\n",
       "      <td>0</td>\n",
       "      <td>temperature</td>\n",
       "      <td>-8.991854</td>\n",
       "    </tr>\n",
       "    <tr>\n",
       "      <td>1</td>\n",
       "      <td>humidity</td>\n",
       "      <td>-0.228370</td>\n",
       "    </tr>\n",
       "    <tr>\n",
       "      <td>2</td>\n",
       "      <td>pressure</td>\n",
       "      <td>0.745167</td>\n",
       "    </tr>\n",
       "    <tr>\n",
       "      <td>3</td>\n",
       "      <td>windSpeed</td>\n",
       "      <td>-4.894919</td>\n",
       "    </tr>\n",
       "    <tr>\n",
       "      <td>4</td>\n",
       "      <td>cloudCover</td>\n",
       "      <td>-0.793075</td>\n",
       "    </tr>\n",
       "    <tr>\n",
       "      <td>5</td>\n",
       "      <td>visibility</td>\n",
       "      <td>0.810461</td>\n",
       "    </tr>\n",
       "    <tr>\n",
       "      <td>6</td>\n",
       "      <td>ozone</td>\n",
       "      <td>-5.263339</td>\n",
       "    </tr>\n",
       "    <tr>\n",
       "      <td>7</td>\n",
       "      <td>east_wind</td>\n",
       "      <td>6.383307</td>\n",
       "    </tr>\n",
       "    <tr>\n",
       "      <td>8</td>\n",
       "      <td>south_wind</td>\n",
       "      <td>6.544788</td>\n",
       "    </tr>\n",
       "    <tr>\n",
       "      <td>9</td>\n",
       "      <td>west_wind</td>\n",
       "      <td>6.746555</td>\n",
       "    </tr>\n",
       "    <tr>\n",
       "      <td>10</td>\n",
       "      <td>spring</td>\n",
       "      <td>7.322864</td>\n",
       "    </tr>\n",
       "    <tr>\n",
       "      <td>11</td>\n",
       "      <td>summer</td>\n",
       "      <td>4.450532</td>\n",
       "    </tr>\n",
       "    <tr>\n",
       "      <td>12</td>\n",
       "      <td>winter</td>\n",
       "      <td>10.231530</td>\n",
       "    </tr>\n",
       "    <tr>\n",
       "      <td>13</td>\n",
       "      <td>evening</td>\n",
       "      <td>0.943689</td>\n",
       "    </tr>\n",
       "    <tr>\n",
       "      <td>14</td>\n",
       "      <td>morning</td>\n",
       "      <td>6.755537</td>\n",
       "    </tr>\n",
       "    <tr>\n",
       "      <td>15</td>\n",
       "      <td>night</td>\n",
       "      <td>3.266554</td>\n",
       "    </tr>\n",
       "    <tr>\n",
       "      <td>16</td>\n",
       "      <td>workday</td>\n",
       "      <td>2.138148</td>\n",
       "    </tr>\n",
       "  </tbody>\n",
       "</table>\n",
       "</div>"
      ],
      "text/plain": [
       "   Feature name  Coefficient\n",
       "0   temperature    -8.991854\n",
       "1      humidity    -0.228370\n",
       "2      pressure     0.745167\n",
       "3     windSpeed    -4.894919\n",
       "4    cloudCover    -0.793075\n",
       "5    visibility     0.810461\n",
       "6         ozone    -5.263339\n",
       "7     east_wind     6.383307\n",
       "8    south_wind     6.544788\n",
       "9     west_wind     6.746555\n",
       "10       spring     7.322864\n",
       "11       summer     4.450532\n",
       "12       winter    10.231530\n",
       "13      evening     0.943689\n",
       "14      morning     6.755537\n",
       "15        night     3.266554\n",
       "16      workday     2.138148"
      ]
     },
     "execution_count": 49,
     "metadata": {},
     "output_type": "execute_result"
    }
   ],
   "source": [
    "summary_table"
   ]
  },
  {
   "cell_type": "code",
   "execution_count": 50,
   "metadata": {},
   "outputs": [],
   "source": [
    "summary_table.index = summary_table.index + 1 "
   ]
  },
  {
   "cell_type": "code",
   "execution_count": 51,
   "metadata": {},
   "outputs": [],
   "source": [
    "summary_table.loc[0] = ['Intercept',reg.intercept_]"
   ]
  },
  {
   "cell_type": "code",
   "execution_count": 52,
   "metadata": {},
   "outputs": [],
   "source": [
    "summary_table = summary_table.sort_index()"
   ]
  },
  {
   "cell_type": "code",
   "execution_count": 53,
   "metadata": {},
   "outputs": [
    {
     "data": {
      "text/html": [
       "<div>\n",
       "<style scoped>\n",
       "    .dataframe tbody tr th:only-of-type {\n",
       "        vertical-align: middle;\n",
       "    }\n",
       "\n",
       "    .dataframe tbody tr th {\n",
       "        vertical-align: top;\n",
       "    }\n",
       "\n",
       "    .dataframe thead th {\n",
       "        text-align: right;\n",
       "    }\n",
       "</style>\n",
       "<table border=\"1\" class=\"dataframe\">\n",
       "  <thead>\n",
       "    <tr style=\"text-align: right;\">\n",
       "      <th></th>\n",
       "      <th>Feature name</th>\n",
       "      <th>Coefficient</th>\n",
       "    </tr>\n",
       "  </thead>\n",
       "  <tbody>\n",
       "    <tr>\n",
       "      <td>0</td>\n",
       "      <td>Intercept</td>\n",
       "      <td>10.059043</td>\n",
       "    </tr>\n",
       "    <tr>\n",
       "      <td>1</td>\n",
       "      <td>temperature</td>\n",
       "      <td>-8.991854</td>\n",
       "    </tr>\n",
       "    <tr>\n",
       "      <td>2</td>\n",
       "      <td>humidity</td>\n",
       "      <td>-0.228370</td>\n",
       "    </tr>\n",
       "    <tr>\n",
       "      <td>3</td>\n",
       "      <td>pressure</td>\n",
       "      <td>0.745167</td>\n",
       "    </tr>\n",
       "    <tr>\n",
       "      <td>4</td>\n",
       "      <td>windSpeed</td>\n",
       "      <td>-4.894919</td>\n",
       "    </tr>\n",
       "    <tr>\n",
       "      <td>5</td>\n",
       "      <td>cloudCover</td>\n",
       "      <td>-0.793075</td>\n",
       "    </tr>\n",
       "    <tr>\n",
       "      <td>6</td>\n",
       "      <td>visibility</td>\n",
       "      <td>0.810461</td>\n",
       "    </tr>\n",
       "    <tr>\n",
       "      <td>7</td>\n",
       "      <td>ozone</td>\n",
       "      <td>-5.263339</td>\n",
       "    </tr>\n",
       "    <tr>\n",
       "      <td>8</td>\n",
       "      <td>east_wind</td>\n",
       "      <td>6.383307</td>\n",
       "    </tr>\n",
       "    <tr>\n",
       "      <td>9</td>\n",
       "      <td>south_wind</td>\n",
       "      <td>6.544788</td>\n",
       "    </tr>\n",
       "    <tr>\n",
       "      <td>10</td>\n",
       "      <td>west_wind</td>\n",
       "      <td>6.746555</td>\n",
       "    </tr>\n",
       "    <tr>\n",
       "      <td>11</td>\n",
       "      <td>spring</td>\n",
       "      <td>7.322864</td>\n",
       "    </tr>\n",
       "    <tr>\n",
       "      <td>12</td>\n",
       "      <td>summer</td>\n",
       "      <td>4.450532</td>\n",
       "    </tr>\n",
       "    <tr>\n",
       "      <td>13</td>\n",
       "      <td>winter</td>\n",
       "      <td>10.231530</td>\n",
       "    </tr>\n",
       "    <tr>\n",
       "      <td>14</td>\n",
       "      <td>evening</td>\n",
       "      <td>0.943689</td>\n",
       "    </tr>\n",
       "    <tr>\n",
       "      <td>15</td>\n",
       "      <td>morning</td>\n",
       "      <td>6.755537</td>\n",
       "    </tr>\n",
       "    <tr>\n",
       "      <td>16</td>\n",
       "      <td>night</td>\n",
       "      <td>3.266554</td>\n",
       "    </tr>\n",
       "    <tr>\n",
       "      <td>17</td>\n",
       "      <td>workday</td>\n",
       "      <td>2.138148</td>\n",
       "    </tr>\n",
       "  </tbody>\n",
       "</table>\n",
       "</div>"
      ],
      "text/plain": [
       "   Feature name  Coefficient\n",
       "0     Intercept    10.059043\n",
       "1   temperature    -8.991854\n",
       "2      humidity    -0.228370\n",
       "3      pressure     0.745167\n",
       "4     windSpeed    -4.894919\n",
       "5    cloudCover    -0.793075\n",
       "6    visibility     0.810461\n",
       "7         ozone    -5.263339\n",
       "8     east_wind     6.383307\n",
       "9    south_wind     6.544788\n",
       "10    west_wind     6.746555\n",
       "11       spring     7.322864\n",
       "12       summer     4.450532\n",
       "13       winter    10.231530\n",
       "14      evening     0.943689\n",
       "15      morning     6.755537\n",
       "16        night     3.266554\n",
       "17      workday     2.138148"
      ]
     },
     "execution_count": 53,
     "metadata": {},
     "output_type": "execute_result"
    }
   ],
   "source": [
    "summary_table"
   ]
  },
  {
   "cell_type": "code",
   "execution_count": 54,
   "metadata": {},
   "outputs": [
    {
     "data": {
      "text/plain": [
       "0.45628521589497684"
      ]
     },
     "execution_count": 54,
     "metadata": {},
     "output_type": "execute_result"
    }
   ],
   "source": [
    "# model score on test data\n",
    "reg.score(X_test,y_test)"
   ]
  },
  {
   "cell_type": "code",
   "execution_count": 55,
   "metadata": {},
   "outputs": [
    {
     "data": {
      "image/png": "[encoded data removed]",
      "text/plain": [
       "<Figure size 432x288 with 1 Axes>"
      ]
     },
     "metadata": {
      "needs_background": "light"
     },
     "output_type": "display_data"
    }
   ],
   "source": [
    "plt.scatter(reg.predict(X_test),y_test);"
   ]
  },
  {
   "cell_type": "code",
   "execution_count": 56,
   "metadata": {},
   "outputs": [],
   "source": [
    "# create dataframe with predicted and real values from the test set\n",
    "results = pd.DataFrame(data=reg.predict(X_test), columns=['prediction'])\n",
    "results['real'] = y_test.values\n",
    "results['difference']=results['real']-results['prediction']"
   ]
  },
  {
   "cell_type": "code",
   "execution_count": 57,
   "metadata": {
    "scrolled": true
   },
   "outputs": [
    {
     "data": {
      "image/png": "[encoded data removed]",
      "text/plain": [
       "<Figure size 432x288 with 1 Axes>"
      ]
     },
     "metadata": {
      "needs_background": "light"
     },
     "output_type": "display_data"
    }
   ],
   "source": [
    "# distribution of the differences\n",
    "plt.hist(results['difference'],bins=30);"
   ]
  },
  {
   "cell_type": "code",
   "execution_count": 58,
   "metadata": {},
   "outputs": [],
   "source": [
    "# divide data on pollution levels\n",
    "def pol_levels(x):\n",
    "    if x <= 12:\n",
    "        return 0 # healthy\n",
    "    elif x > 12 and x <=35.4:\n",
    "        return 1 # moderate\n",
    "    elif x > 35.4 and x <=55.4:\n",
    "        return 2 # unhealthy for sensitive groups\n",
    "    elif x > 55.4 and x <=150.4:\n",
    "        return 3 # unhealthy\n",
    "    else:\n",
    "        return 4 # hazardous\n",
    "    \n",
    "results['pred_lev'] = results['prediction'].apply(pol_levels)\n",
    "results['real_lev'] = results['real'].apply(pol_levels)\n",
    "results['diff_lev']=results['real_lev']-results['pred_lev']"
   ]
  },
  {
   "cell_type": "code",
   "execution_count": 59,
   "metadata": {},
   "outputs": [
    {
     "data": {
      "text/plain": [
       " 0    1570\n",
       "-1     702\n",
       " 1     491\n",
       " 2      40\n",
       "-2      11\n",
       "Name: diff_lev, dtype: int64"
      ]
     },
     "execution_count": 59,
     "metadata": {},
     "output_type": "execute_result"
    }
   ],
   "source": [
    "results['diff_lev'].value_counts()"
   ]
  },
  {
   "cell_type": "code",
   "execution_count": 60,
   "metadata": {},
   "outputs": [
    {
     "data": {
      "text/plain": [
       "0.5579246624022743"
      ]
     },
     "execution_count": 60,
     "metadata": {},
     "output_type": "execute_result"
    }
   ],
   "source": [
    "# percent of correctly predicted pollution levels\n",
    "results[results['diff_lev'] == 0].shape[0]/results.shape[0]"
   ]
  },
  {
   "cell_type": "code",
   "execution_count": 61,
   "metadata": {},
   "outputs": [
    {
     "data": {
      "text/html": [
       "<div>\n",
       "<style scoped>\n",
       "    .dataframe tbody tr th:only-of-type {\n",
       "        vertical-align: middle;\n",
       "    }\n",
       "\n",
       "    .dataframe tbody tr th {\n",
       "        vertical-align: top;\n",
       "    }\n",
       "\n",
       "    .dataframe thead th {\n",
       "        text-align: right;\n",
       "    }\n",
       "</style>\n",
       "<table border=\"1\" class=\"dataframe\">\n",
       "  <thead>\n",
       "    <tr style=\"text-align: right;\">\n",
       "      <th></th>\n",
       "      <th>prediction</th>\n",
       "      <th>real</th>\n",
       "      <th>difference</th>\n",
       "      <th>pred_lev</th>\n",
       "      <th>real_lev</th>\n",
       "      <th>diff_lev</th>\n",
       "    </tr>\n",
       "  </thead>\n",
       "  <tbody>\n",
       "    <tr>\n",
       "      <td>0</td>\n",
       "      <td>26.121563</td>\n",
       "      <td>17.1</td>\n",
       "      <td>-9.021563</td>\n",
       "      <td>1</td>\n",
       "      <td>1</td>\n",
       "      <td>0</td>\n",
       "    </tr>\n",
       "    <tr>\n",
       "      <td>1</td>\n",
       "      <td>19.972525</td>\n",
       "      <td>46.3</td>\n",
       "      <td>26.327475</td>\n",
       "      <td>1</td>\n",
       "      <td>2</td>\n",
       "      <td>1</td>\n",
       "    </tr>\n",
       "    <tr>\n",
       "      <td>2</td>\n",
       "      <td>20.827447</td>\n",
       "      <td>9.2</td>\n",
       "      <td>-11.627447</td>\n",
       "      <td>1</td>\n",
       "      <td>0</td>\n",
       "      <td>-1</td>\n",
       "    </tr>\n",
       "    <tr>\n",
       "      <td>3</td>\n",
       "      <td>13.263303</td>\n",
       "      <td>14.6</td>\n",
       "      <td>1.336697</td>\n",
       "      <td>1</td>\n",
       "      <td>1</td>\n",
       "      <td>0</td>\n",
       "    </tr>\n",
       "    <tr>\n",
       "      <td>4</td>\n",
       "      <td>7.647055</td>\n",
       "      <td>9.6</td>\n",
       "      <td>1.952945</td>\n",
       "      <td>0</td>\n",
       "      <td>0</td>\n",
       "      <td>0</td>\n",
       "    </tr>\n",
       "  </tbody>\n",
       "</table>\n",
       "</div>"
      ],
      "text/plain": [
       "   prediction  real  difference  pred_lev  real_lev  diff_lev\n",
       "0   26.121563  17.1   -9.021563         1         1         0\n",
       "1   19.972525  46.3   26.327475         1         2         1\n",
       "2   20.827447   9.2  -11.627447         1         0        -1\n",
       "3   13.263303  14.6    1.336697         1         1         0\n",
       "4    7.647055   9.6    1.952945         0         0         0"
      ]
     },
     "execution_count": 61,
     "metadata": {},
     "output_type": "execute_result"
    }
   ],
   "source": [
    "results.head()"
   ]
  },
  {
   "cell_type": "code",
   "execution_count": 62,
   "metadata": {},
   "outputs": [
    {
     "data": {
      "text/html": [
       "<div>\n",
       "<style scoped>\n",
       "    .dataframe tbody tr th:only-of-type {\n",
       "        vertical-align: middle;\n",
       "    }\n",
       "\n",
       "    .dataframe tbody tr th {\n",
       "        vertical-align: top;\n",
       "    }\n",
       "\n",
       "    .dataframe thead th {\n",
       "        text-align: right;\n",
       "    }\n",
       "</style>\n",
       "<table border=\"1\" class=\"dataframe\">\n",
       "  <thead>\n",
       "    <tr style=\"text-align: right;\">\n",
       "      <th></th>\n",
       "      <th>prediction</th>\n",
       "      <th>real</th>\n",
       "      <th>difference</th>\n",
       "      <th>pred_lev</th>\n",
       "      <th>real_lev</th>\n",
       "      <th>diff_lev</th>\n",
       "    </tr>\n",
       "  </thead>\n",
       "  <tbody>\n",
       "    <tr>\n",
       "      <td>count</td>\n",
       "      <td>2814.000000</td>\n",
       "      <td>2814.000000</td>\n",
       "      <td>2814.000000</td>\n",
       "      <td>2814.000000</td>\n",
       "      <td>2814.000000</td>\n",
       "      <td>2814.000000</td>\n",
       "    </tr>\n",
       "    <tr>\n",
       "      <td>mean</td>\n",
       "      <td>24.584007</td>\n",
       "      <td>24.612544</td>\n",
       "      <td>0.028538</td>\n",
       "      <td>1.056503</td>\n",
       "      <td>1.002132</td>\n",
       "      <td>-0.054371</td>\n",
       "    </tr>\n",
       "    <tr>\n",
       "      <td>std</td>\n",
       "      <td>13.120425</td>\n",
       "      <td>19.463815</td>\n",
       "      <td>14.352009</td>\n",
       "      <td>0.653688</td>\n",
       "      <td>0.839393</td>\n",
       "      <td>0.702613</td>\n",
       "    </tr>\n",
       "    <tr>\n",
       "      <td>min</td>\n",
       "      <td>-14.531313</td>\n",
       "      <td>3.100000</td>\n",
       "      <td>-38.736443</td>\n",
       "      <td>0.000000</td>\n",
       "      <td>0.000000</td>\n",
       "      <td>-2.000000</td>\n",
       "    </tr>\n",
       "    <tr>\n",
       "      <td>25%</td>\n",
       "      <td>15.232954</td>\n",
       "      <td>11.600000</td>\n",
       "      <td>-8.866730</td>\n",
       "      <td>1.000000</td>\n",
       "      <td>0.000000</td>\n",
       "      <td>-1.000000</td>\n",
       "    </tr>\n",
       "    <tr>\n",
       "      <td>50%</td>\n",
       "      <td>22.822407</td>\n",
       "      <td>18.500000</td>\n",
       "      <td>-1.674582</td>\n",
       "      <td>1.000000</td>\n",
       "      <td>1.000000</td>\n",
       "      <td>0.000000</td>\n",
       "    </tr>\n",
       "    <tr>\n",
       "      <td>75%</td>\n",
       "      <td>32.370036</td>\n",
       "      <td>31.000000</td>\n",
       "      <td>6.548824</td>\n",
       "      <td>1.000000</td>\n",
       "      <td>1.000000</td>\n",
       "      <td>0.000000</td>\n",
       "    </tr>\n",
       "    <tr>\n",
       "      <td>max</td>\n",
       "      <td>68.879459</td>\n",
       "      <td>148.100000</td>\n",
       "      <td>93.072238</td>\n",
       "      <td>3.000000</td>\n",
       "      <td>3.000000</td>\n",
       "      <td>2.000000</td>\n",
       "    </tr>\n",
       "  </tbody>\n",
       "</table>\n",
       "</div>"
      ],
      "text/plain": [
       "        prediction         real   difference     pred_lev     real_lev  \\\n",
       "count  2814.000000  2814.000000  2814.000000  2814.000000  2814.000000   \n",
       "mean     24.584007    24.612544     0.028538     1.056503     1.002132   \n",
       "std      13.120425    19.463815    14.352009     0.653688     0.839393   \n",
       "min     -14.531313     3.100000   -38.736443     0.000000     0.000000   \n",
       "25%      15.232954    11.600000    -8.866730     1.000000     0.000000   \n",
       "50%      22.822407    18.500000    -1.674582     1.000000     1.000000   \n",
       "75%      32.370036    31.000000     6.548824     1.000000     1.000000   \n",
       "max      68.879459   148.100000    93.072238     3.000000     3.000000   \n",
       "\n",
       "          diff_lev  \n",
       "count  2814.000000  \n",
       "mean     -0.054371  \n",
       "std       0.702613  \n",
       "min      -2.000000  \n",
       "25%      -1.000000  \n",
       "50%       0.000000  \n",
       "75%       0.000000  \n",
       "max       2.000000  "
      ]
     },
     "execution_count": 62,
     "metadata": {},
     "output_type": "execute_result"
    }
   ],
   "source": [
    "results.describe()"
   ]
  },
  {
   "cell_type": "code",
   "execution_count": null,
   "metadata": {},
   "outputs": [],
   "source": []
  },
  {
   "cell_type": "code",
   "execution_count": null,
   "metadata": {},
   "outputs": [],
   "source": []
  },
  {
   "cell_type": "code",
   "execution_count": 63,
   "metadata": {},
   "outputs": [],
   "source": [
    "# convert dates to datetime format\n",
    "df_drop_col['time'] = pd.to_datetime(df_drop_col['time'],format = '%Y-%m-%d %H:%M:%S')\n",
    "\n",
    "# create new feature month\n",
    "df_drop_col['month'] = df_drop_col['time'].apply(lambda time: time.month)\n",
    "\n",
    "# create new feature hour\n",
    "df_drop_col['hour'] = df_drop_col['time'].apply(lambda time: time.hour)\n",
    "\n",
    "# create new feature weekday\n",
    "df_drop_col['weekday'] = df_drop_col['time'].apply(lambda time: time.weekday())"
   ]
  },
  {
   "cell_type": "code",
   "execution_count": 64,
   "metadata": {},
   "outputs": [
    {
     "data": {
      "image/png": "[encoded data removed]",
      "text/plain": [
       "<Figure size 432x288 with 1 Axes>"
      ]
     },
     "metadata": {
      "needs_background": "light"
     },
     "output_type": "display_data"
    }
   ],
   "source": [
    "plt.scatter(df_drop_col['month'],df_drop_col['PM2']);"
   ]
  },
  {
   "cell_type": "code",
   "execution_count": 65,
   "metadata": {},
   "outputs": [
    {
     "data": {
      "image/png": "[encoded data removed]",
      "text/plain": [
       "<Figure size 432x288 with 1 Axes>"
      ]
     },
     "metadata": {
      "needs_background": "light"
     },
     "output_type": "display_data"
    }
   ],
   "source": [
    "plt.scatter(df_drop_col['hour'],df_drop_col['PM2']);"
   ]
  },
  {
   "cell_type": "code",
   "execution_count": 66,
   "metadata": {},
   "outputs": [
    {
     "data": {
      "image/png": "[encoded data removed]",
      "text/plain": [
       "<Figure size 432x288 with 1 Axes>"
      ]
     },
     "metadata": {
      "needs_background": "light"
     },
     "output_type": "display_data"
    }
   ],
   "source": [
    "plt.scatter(df_drop_col['weekday'],df_drop_col['PM2'],alpha = 0.5);"
   ]
  },
  {
   "cell_type": "code",
   "execution_count": 67,
   "metadata": {},
   "outputs": [],
   "source": [
    "# create checkpoint\n",
    "df_time = df_drop_col.copy()"
   ]
  },
  {
   "cell_type": "code",
   "execution_count": 68,
   "metadata": {},
   "outputs": [],
   "source": [
    "df_time['month'] = df_time['month'].apply(month_map)\n",
    "df_time['hour'] = df_time['hour'].apply(hour_map)\n",
    "df_time['weekday'] = df_time['weekday'].apply(weekday_map)"
   ]
  },
  {
   "cell_type": "code",
   "execution_count": 69,
   "metadata": {},
   "outputs": [
    {
     "data": {
      "text/html": [
       "<div>\n",
       "<style scoped>\n",
       "    .dataframe tbody tr th:only-of-type {\n",
       "        vertical-align: middle;\n",
       "    }\n",
       "\n",
       "    .dataframe tbody tr th {\n",
       "        vertical-align: top;\n",
       "    }\n",
       "\n",
       "    .dataframe thead th {\n",
       "        text-align: right;\n",
       "    }\n",
       "</style>\n",
       "<table border=\"1\" class=\"dataframe\">\n",
       "  <thead>\n",
       "    <tr style=\"text-align: right;\">\n",
       "      <th></th>\n",
       "      <th>time</th>\n",
       "      <th>temperature</th>\n",
       "      <th>humidity</th>\n",
       "      <th>windSpeed</th>\n",
       "      <th>visibility</th>\n",
       "      <th>ozone</th>\n",
       "      <th>east_wind</th>\n",
       "      <th>south_wind</th>\n",
       "      <th>west_wind</th>\n",
       "      <th>PM2</th>\n",
       "      <th>month</th>\n",
       "      <th>hour</th>\n",
       "      <th>weekday</th>\n",
       "    </tr>\n",
       "  </thead>\n",
       "  <tbody>\n",
       "    <tr>\n",
       "      <td>0</td>\n",
       "      <td>2019-01-01 23:00:00</td>\n",
       "      <td>3.20</td>\n",
       "      <td>0.80</td>\n",
       "      <td>9.3</td>\n",
       "      <td>10.003</td>\n",
       "      <td>314.2</td>\n",
       "      <td>0</td>\n",
       "      <td>0</td>\n",
       "      <td>1</td>\n",
       "      <td>12.9</td>\n",
       "      <td>winter</td>\n",
       "      <td>evening</td>\n",
       "      <td>workday</td>\n",
       "    </tr>\n",
       "    <tr>\n",
       "      <td>1</td>\n",
       "      <td>2019-01-02 00:00:00</td>\n",
       "      <td>2.20</td>\n",
       "      <td>0.85</td>\n",
       "      <td>8.8</td>\n",
       "      <td>10.003</td>\n",
       "      <td>315.5</td>\n",
       "      <td>0</td>\n",
       "      <td>0</td>\n",
       "      <td>1</td>\n",
       "      <td>5.5</td>\n",
       "      <td>winter</td>\n",
       "      <td>night</td>\n",
       "      <td>workday</td>\n",
       "    </tr>\n",
       "    <tr>\n",
       "      <td>2</td>\n",
       "      <td>2019-01-02 01:00:00</td>\n",
       "      <td>2.20</td>\n",
       "      <td>0.79</td>\n",
       "      <td>7.2</td>\n",
       "      <td>10.003</td>\n",
       "      <td>315.7</td>\n",
       "      <td>0</td>\n",
       "      <td>0</td>\n",
       "      <td>1</td>\n",
       "      <td>4.7</td>\n",
       "      <td>winter</td>\n",
       "      <td>night</td>\n",
       "      <td>workday</td>\n",
       "    </tr>\n",
       "    <tr>\n",
       "      <td>3</td>\n",
       "      <td>2019-01-02 02:00:00</td>\n",
       "      <td>1.20</td>\n",
       "      <td>0.92</td>\n",
       "      <td>7.2</td>\n",
       "      <td>2.003</td>\n",
       "      <td>316.5</td>\n",
       "      <td>0</td>\n",
       "      <td>0</td>\n",
       "      <td>1</td>\n",
       "      <td>5.7</td>\n",
       "      <td>winter</td>\n",
       "      <td>night</td>\n",
       "      <td>workday</td>\n",
       "    </tr>\n",
       "    <tr>\n",
       "      <td>4</td>\n",
       "      <td>2019-01-02 03:00:00</td>\n",
       "      <td>0.22</td>\n",
       "      <td>0.99</td>\n",
       "      <td>7.2</td>\n",
       "      <td>1.498</td>\n",
       "      <td>318.5</td>\n",
       "      <td>0</td>\n",
       "      <td>0</td>\n",
       "      <td>1</td>\n",
       "      <td>6.1</td>\n",
       "      <td>winter</td>\n",
       "      <td>night</td>\n",
       "      <td>workday</td>\n",
       "    </tr>\n",
       "  </tbody>\n",
       "</table>\n",
       "</div>"
      ],
      "text/plain": [
       "                 time  temperature  humidity  windSpeed  visibility  ozone  \\\n",
       "0 2019-01-01 23:00:00         3.20      0.80        9.3      10.003  314.2   \n",
       "1 2019-01-02 00:00:00         2.20      0.85        8.8      10.003  315.5   \n",
       "2 2019-01-02 01:00:00         2.20      0.79        7.2      10.003  315.7   \n",
       "3 2019-01-02 02:00:00         1.20      0.92        7.2       2.003  316.5   \n",
       "4 2019-01-02 03:00:00         0.22      0.99        7.2       1.498  318.5   \n",
       "\n",
       "   east_wind  south_wind  west_wind   PM2   month     hour  weekday  \n",
       "0          0           0          1  12.9  winter  evening  workday  \n",
       "1          0           0          1   5.5  winter    night  workday  \n",
       "2          0           0          1   4.7  winter    night  workday  \n",
       "3          0           0          1   5.7  winter    night  workday  \n",
       "4          0           0          1   6.1  winter    night  workday  "
      ]
     },
     "execution_count": 69,
     "metadata": {},
     "output_type": "execute_result"
    }
   ],
   "source": [
    "df_time.head()"
   ]
  },
  {
   "cell_type": "code",
   "execution_count": 70,
   "metadata": {},
   "outputs": [],
   "source": [
    "# create checkpoint\n",
    "df_time_dummies = df_time.copy()\n",
    "\n",
    "season_columns = pd.get_dummies(df_time_dummies['month'], drop_first = True)\n",
    "daypart_columns = pd.get_dummies(df_time_dummies['hour'], drop_first = True)\n",
    "weekend_columns = pd.get_dummies(df_time_dummies['weekday'], drop_first = True)\n",
    "\n",
    "# concatenate column values\n",
    "# create checkpoint\n",
    "df_dummies = pd.concat([df_time_dummies,season_columns,daypart_columns,weekend_columns], axis = 1)"
   ]
  },
  {
   "cell_type": "code",
   "execution_count": 71,
   "metadata": {},
   "outputs": [
    {
     "data": {
      "text/html": [
       "<div>\n",
       "<style scoped>\n",
       "    .dataframe tbody tr th:only-of-type {\n",
       "        vertical-align: middle;\n",
       "    }\n",
       "\n",
       "    .dataframe tbody tr th {\n",
       "        vertical-align: top;\n",
       "    }\n",
       "\n",
       "    .dataframe thead th {\n",
       "        text-align: right;\n",
       "    }\n",
       "</style>\n",
       "<table border=\"1\" class=\"dataframe\">\n",
       "  <thead>\n",
       "    <tr style=\"text-align: right;\">\n",
       "      <th></th>\n",
       "      <th>time</th>\n",
       "      <th>temperature</th>\n",
       "      <th>humidity</th>\n",
       "      <th>windSpeed</th>\n",
       "      <th>visibility</th>\n",
       "      <th>ozone</th>\n",
       "      <th>east_wind</th>\n",
       "      <th>south_wind</th>\n",
       "      <th>west_wind</th>\n",
       "      <th>PM2</th>\n",
       "      <th>month</th>\n",
       "      <th>hour</th>\n",
       "      <th>weekday</th>\n",
       "      <th>spring</th>\n",
       "      <th>summer</th>\n",
       "      <th>winter</th>\n",
       "      <th>evening</th>\n",
       "      <th>morning</th>\n",
       "      <th>night</th>\n",
       "      <th>workday</th>\n",
       "    </tr>\n",
       "  </thead>\n",
       "  <tbody>\n",
       "    <tr>\n",
       "      <td>0</td>\n",
       "      <td>2019-01-01 23:00:00</td>\n",
       "      <td>3.20</td>\n",
       "      <td>0.80</td>\n",
       "      <td>9.3</td>\n",
       "      <td>10.003</td>\n",
       "      <td>314.2</td>\n",
       "      <td>0</td>\n",
       "      <td>0</td>\n",
       "      <td>1</td>\n",
       "      <td>12.9</td>\n",
       "      <td>winter</td>\n",
       "      <td>evening</td>\n",
       "      <td>workday</td>\n",
       "      <td>0</td>\n",
       "      <td>0</td>\n",
       "      <td>1</td>\n",
       "      <td>1</td>\n",
       "      <td>0</td>\n",
       "      <td>0</td>\n",
       "      <td>1</td>\n",
       "    </tr>\n",
       "    <tr>\n",
       "      <td>1</td>\n",
       "      <td>2019-01-02 00:00:00</td>\n",
       "      <td>2.20</td>\n",
       "      <td>0.85</td>\n",
       "      <td>8.8</td>\n",
       "      <td>10.003</td>\n",
       "      <td>315.5</td>\n",
       "      <td>0</td>\n",
       "      <td>0</td>\n",
       "      <td>1</td>\n",
       "      <td>5.5</td>\n",
       "      <td>winter</td>\n",
       "      <td>night</td>\n",
       "      <td>workday</td>\n",
       "      <td>0</td>\n",
       "      <td>0</td>\n",
       "      <td>1</td>\n",
       "      <td>0</td>\n",
       "      <td>0</td>\n",
       "      <td>1</td>\n",
       "      <td>1</td>\n",
       "    </tr>\n",
       "    <tr>\n",
       "      <td>2</td>\n",
       "      <td>2019-01-02 01:00:00</td>\n",
       "      <td>2.20</td>\n",
       "      <td>0.79</td>\n",
       "      <td>7.2</td>\n",
       "      <td>10.003</td>\n",
       "      <td>315.7</td>\n",
       "      <td>0</td>\n",
       "      <td>0</td>\n",
       "      <td>1</td>\n",
       "      <td>4.7</td>\n",
       "      <td>winter</td>\n",
       "      <td>night</td>\n",
       "      <td>workday</td>\n",
       "      <td>0</td>\n",
       "      <td>0</td>\n",
       "      <td>1</td>\n",
       "      <td>0</td>\n",
       "      <td>0</td>\n",
       "      <td>1</td>\n",
       "      <td>1</td>\n",
       "    </tr>\n",
       "    <tr>\n",
       "      <td>3</td>\n",
       "      <td>2019-01-02 02:00:00</td>\n",
       "      <td>1.20</td>\n",
       "      <td>0.92</td>\n",
       "      <td>7.2</td>\n",
       "      <td>2.003</td>\n",
       "      <td>316.5</td>\n",
       "      <td>0</td>\n",
       "      <td>0</td>\n",
       "      <td>1</td>\n",
       "      <td>5.7</td>\n",
       "      <td>winter</td>\n",
       "      <td>night</td>\n",
       "      <td>workday</td>\n",
       "      <td>0</td>\n",
       "      <td>0</td>\n",
       "      <td>1</td>\n",
       "      <td>0</td>\n",
       "      <td>0</td>\n",
       "      <td>1</td>\n",
       "      <td>1</td>\n",
       "    </tr>\n",
       "    <tr>\n",
       "      <td>4</td>\n",
       "      <td>2019-01-02 03:00:00</td>\n",
       "      <td>0.22</td>\n",
       "      <td>0.99</td>\n",
       "      <td>7.2</td>\n",
       "      <td>1.498</td>\n",
       "      <td>318.5</td>\n",
       "      <td>0</td>\n",
       "      <td>0</td>\n",
       "      <td>1</td>\n",
       "      <td>6.1</td>\n",
       "      <td>winter</td>\n",
       "      <td>night</td>\n",
       "      <td>workday</td>\n",
       "      <td>0</td>\n",
       "      <td>0</td>\n",
       "      <td>1</td>\n",
       "      <td>0</td>\n",
       "      <td>0</td>\n",
       "      <td>1</td>\n",
       "      <td>1</td>\n",
       "    </tr>\n",
       "  </tbody>\n",
       "</table>\n",
       "</div>"
      ],
      "text/plain": [
       "                 time  temperature  humidity  windSpeed  visibility  ozone  \\\n",
       "0 2019-01-01 23:00:00         3.20      0.80        9.3      10.003  314.2   \n",
       "1 2019-01-02 00:00:00         2.20      0.85        8.8      10.003  315.5   \n",
       "2 2019-01-02 01:00:00         2.20      0.79        7.2      10.003  315.7   \n",
       "3 2019-01-02 02:00:00         1.20      0.92        7.2       2.003  316.5   \n",
       "4 2019-01-02 03:00:00         0.22      0.99        7.2       1.498  318.5   \n",
       "\n",
       "   east_wind  south_wind  west_wind   PM2   month     hour  weekday  spring  \\\n",
       "0          0           0          1  12.9  winter  evening  workday       0   \n",
       "1          0           0          1   5.5  winter    night  workday       0   \n",
       "2          0           0          1   4.7  winter    night  workday       0   \n",
       "3          0           0          1   5.7  winter    night  workday       0   \n",
       "4          0           0          1   6.1  winter    night  workday       0   \n",
       "\n",
       "   summer  winter  evening  morning  night  workday  \n",
       "0       0       1        1        0      0        1  \n",
       "1       0       1        0        0      1        1  \n",
       "2       0       1        0        0      1        1  \n",
       "3       0       1        0        0      1        1  \n",
       "4       0       1        0        0      1        1  "
      ]
     },
     "execution_count": 71,
     "metadata": {},
     "output_type": "execute_result"
    }
   ],
   "source": [
    "df_dummies.head()"
   ]
  },
  {
   "cell_type": "code",
   "execution_count": 72,
   "metadata": {},
   "outputs": [
    {
     "data": {
      "text/plain": [
       "array(['temperature', 'humidity', 'windSpeed', 'visibility', 'ozone',\n",
       "       'east_wind', 'south_wind', 'west_wind', 'PM2', 'spring', 'summer',\n",
       "       'winter', 'evening', 'morning', 'night', 'workday'], dtype=object)"
      ]
     },
     "execution_count": 72,
     "metadata": {},
     "output_type": "execute_result"
    }
   ],
   "source": [
    "# drop time, month, hour, weekday columns\n",
    "# checkpoint\n",
    "df_prep = df_dummies.drop(['time','month','hour','weekday'], axis = 1)\n",
    "\n",
    "df_prep.columns.values"
   ]
  },
  {
   "cell_type": "code",
   "execution_count": 73,
   "metadata": {},
   "outputs": [],
   "source": [
    "df_prep = df_prep[['temperature', 'humidity', 'windSpeed', 'visibility', 'ozone',\n",
    "       'east_wind', 'south_wind', 'west_wind', 'spring', 'summer',\n",
    "       'winter', 'evening', 'morning', 'night', 'workday', 'PM2']]"
   ]
  },
  {
   "cell_type": "code",
   "execution_count": 74,
   "metadata": {},
   "outputs": [],
   "source": [
    "df_prep = df_prep.dropna().reset_index()\n",
    "df_prep.drop(['index'],axis=1,inplace = True)"
   ]
  },
  {
   "cell_type": "code",
   "execution_count": 75,
   "metadata": {},
   "outputs": [
    {
     "name": "stdout",
     "output_type": "stream",
     "text": [
      "<class 'pandas.core.frame.DataFrame'>\n",
      "RangeIndex: 16694 entries, 0 to 16693\n",
      "Data columns (total 16 columns):\n",
      "temperature    16694 non-null float64\n",
      "humidity       16694 non-null float64\n",
      "windSpeed      16694 non-null float64\n",
      "visibility     16694 non-null float64\n",
      "ozone          16694 non-null float64\n",
      "east_wind      16694 non-null int64\n",
      "south_wind     16694 non-null int64\n",
      "west_wind      16694 non-null int64\n",
      "spring         16694 non-null uint8\n",
      "summer         16694 non-null uint8\n",
      "winter         16694 non-null uint8\n",
      "evening        16694 non-null uint8\n",
      "morning        16694 non-null uint8\n",
      "night          16694 non-null uint8\n",
      "workday        16694 non-null uint8\n",
      "PM2            16694 non-null float64\n",
      "dtypes: float64(6), int64(3), uint8(7)\n",
      "memory usage: 1.3 MB\n"
     ]
    }
   ],
   "source": [
    "df_prep.info()"
   ]
  },
  {
   "cell_type": "code",
   "execution_count": 76,
   "metadata": {},
   "outputs": [],
   "source": [
    "unscaled_inputs = df_prep.iloc[:,:-1]"
   ]
  },
  {
   "cell_type": "code",
   "execution_count": 77,
   "metadata": {},
   "outputs": [
    {
     "name": "stdout",
     "output_type": "stream",
     "text": [
      "<class 'pandas.core.frame.DataFrame'>\n",
      "RangeIndex: 16694 entries, 0 to 16693\n",
      "Data columns (total 15 columns):\n",
      "temperature    16694 non-null float64\n",
      "humidity       16694 non-null float64\n",
      "windSpeed      16694 non-null float64\n",
      "visibility     16694 non-null float64\n",
      "ozone          16694 non-null float64\n",
      "east_wind      16694 non-null int64\n",
      "south_wind     16694 non-null int64\n",
      "west_wind      16694 non-null int64\n",
      "spring         16694 non-null uint8\n",
      "summer         16694 non-null uint8\n",
      "winter         16694 non-null uint8\n",
      "evening        16694 non-null uint8\n",
      "morning        16694 non-null uint8\n",
      "night          16694 non-null uint8\n",
      "workday        16694 non-null uint8\n",
      "dtypes: float64(5), int64(3), uint8(7)\n",
      "memory usage: 1.1 MB\n"
     ]
    }
   ],
   "source": [
    "unscaled_inputs.info()"
   ]
  },
  {
   "cell_type": "code",
   "execution_count": 78,
   "metadata": {},
   "outputs": [
    {
     "data": {
      "text/plain": [
       "['temperature', 'humidity', 'windSpeed', 'visibility', 'ozone']"
      ]
     },
     "execution_count": 78,
     "metadata": {},
     "output_type": "execute_result"
    }
   ],
   "source": [
    "columns_to_omit = ['east_wind', 'south_wind', 'west_wind', 'spring', 'summer', 'winter', 'evening', 'morning', 'night',\n",
    "       'workday']\n",
    "\n",
    "columns_to_scale = [column for column in unscaled_inputs.columns.values if column not in columns_to_omit]\n",
    "#columns_to_scale = ['temperature', 'windSpeed', 'ozone', 'month', 'hour']\n",
    "columns_to_scale"
   ]
  },
  {
   "cell_type": "code",
   "execution_count": 79,
   "metadata": {},
   "outputs": [
    {
     "name": "stdout",
     "output_type": "stream",
     "text": [
      "<class 'pandas.core.frame.DataFrame'>\n",
      "RangeIndex: 16694 entries, 0 to 16693\n",
      "Data columns (total 15 columns):\n",
      "temperature    16694 non-null float64\n",
      "humidity       16694 non-null float64\n",
      "windSpeed      16694 non-null float64\n",
      "visibility     16694 non-null float64\n",
      "ozone          16694 non-null float64\n",
      "east_wind      16694 non-null int64\n",
      "south_wind     16694 non-null int64\n",
      "west_wind      16694 non-null int64\n",
      "spring         16694 non-null uint8\n",
      "summer         16694 non-null uint8\n",
      "winter         16694 non-null uint8\n",
      "evening        16694 non-null uint8\n",
      "morning        16694 non-null uint8\n",
      "night          16694 non-null uint8\n",
      "workday        16694 non-null uint8\n",
      "dtypes: float64(5), int64(3), uint8(7)\n",
      "memory usage: 1.1 MB\n"
     ]
    }
   ],
   "source": [
    "smog_scaler = CustomScaler(columns_to_scale)\n",
    "\n",
    "smog_scaler.fit(unscaled_inputs)\n",
    "\n",
    "scaled_inputs = smog_scaler.transform(unscaled_inputs)\n",
    "\n",
    "scaled_inputs.info()"
   ]
  },
  {
   "cell_type": "code",
   "execution_count": 80,
   "metadata": {},
   "outputs": [
    {
     "data": {
      "text/html": [
       "<div>\n",
       "<style scoped>\n",
       "    .dataframe tbody tr th:only-of-type {\n",
       "        vertical-align: middle;\n",
       "    }\n",
       "\n",
       "    .dataframe tbody tr th {\n",
       "        vertical-align: top;\n",
       "    }\n",
       "\n",
       "    .dataframe thead th {\n",
       "        text-align: right;\n",
       "    }\n",
       "</style>\n",
       "<table border=\"1\" class=\"dataframe\">\n",
       "  <thead>\n",
       "    <tr style=\"text-align: right;\">\n",
       "      <th></th>\n",
       "      <th>temperature</th>\n",
       "      <th>humidity</th>\n",
       "      <th>windSpeed</th>\n",
       "      <th>visibility</th>\n",
       "      <th>ozone</th>\n",
       "      <th>east_wind</th>\n",
       "      <th>south_wind</th>\n",
       "      <th>west_wind</th>\n",
       "      <th>spring</th>\n",
       "      <th>summer</th>\n",
       "      <th>winter</th>\n",
       "      <th>evening</th>\n",
       "      <th>morning</th>\n",
       "      <th>night</th>\n",
       "      <th>workday</th>\n",
       "    </tr>\n",
       "  </thead>\n",
       "  <tbody>\n",
       "    <tr>\n",
       "      <td>0</td>\n",
       "      <td>-0.887997</td>\n",
       "      <td>0.371593</td>\n",
       "      <td>3.390425</td>\n",
       "      <td>-1.268489</td>\n",
       "      <td>-0.183808</td>\n",
       "      <td>0</td>\n",
       "      <td>0</td>\n",
       "      <td>1</td>\n",
       "      <td>0</td>\n",
       "      <td>0</td>\n",
       "      <td>1</td>\n",
       "      <td>1</td>\n",
       "      <td>0</td>\n",
       "      <td>0</td>\n",
       "      <td>1</td>\n",
       "    </tr>\n",
       "    <tr>\n",
       "      <td>1</td>\n",
       "      <td>-1.005286</td>\n",
       "      <td>0.659209</td>\n",
       "      <td>3.121664</td>\n",
       "      <td>-1.268489</td>\n",
       "      <td>-0.153150</td>\n",
       "      <td>0</td>\n",
       "      <td>0</td>\n",
       "      <td>1</td>\n",
       "      <td>0</td>\n",
       "      <td>0</td>\n",
       "      <td>1</td>\n",
       "      <td>0</td>\n",
       "      <td>0</td>\n",
       "      <td>1</td>\n",
       "      <td>1</td>\n",
       "    </tr>\n",
       "    <tr>\n",
       "      <td>2</td>\n",
       "      <td>-1.005286</td>\n",
       "      <td>0.314069</td>\n",
       "      <td>2.261630</td>\n",
       "      <td>-1.268489</td>\n",
       "      <td>-0.148433</td>\n",
       "      <td>0</td>\n",
       "      <td>0</td>\n",
       "      <td>1</td>\n",
       "      <td>0</td>\n",
       "      <td>0</td>\n",
       "      <td>1</td>\n",
       "      <td>0</td>\n",
       "      <td>0</td>\n",
       "      <td>1</td>\n",
       "      <td>1</td>\n",
       "    </tr>\n",
       "    <tr>\n",
       "      <td>3</td>\n",
       "      <td>-1.122576</td>\n",
       "      <td>1.061872</td>\n",
       "      <td>2.261630</td>\n",
       "      <td>-3.572512</td>\n",
       "      <td>-0.129566</td>\n",
       "      <td>0</td>\n",
       "      <td>0</td>\n",
       "      <td>1</td>\n",
       "      <td>0</td>\n",
       "      <td>0</td>\n",
       "      <td>1</td>\n",
       "      <td>0</td>\n",
       "      <td>0</td>\n",
       "      <td>1</td>\n",
       "      <td>1</td>\n",
       "    </tr>\n",
       "    <tr>\n",
       "      <td>4</td>\n",
       "      <td>-1.237520</td>\n",
       "      <td>1.464535</td>\n",
       "      <td>2.261630</td>\n",
       "      <td>-3.717953</td>\n",
       "      <td>-0.082399</td>\n",
       "      <td>0</td>\n",
       "      <td>0</td>\n",
       "      <td>1</td>\n",
       "      <td>0</td>\n",
       "      <td>0</td>\n",
       "      <td>1</td>\n",
       "      <td>0</td>\n",
       "      <td>0</td>\n",
       "      <td>1</td>\n",
       "      <td>1</td>\n",
       "    </tr>\n",
       "  </tbody>\n",
       "</table>\n",
       "</div>"
      ],
      "text/plain": [
       "   temperature  humidity  windSpeed  visibility     ozone  east_wind  \\\n",
       "0    -0.887997  0.371593   3.390425   -1.268489 -0.183808          0   \n",
       "1    -1.005286  0.659209   3.121664   -1.268489 -0.153150          0   \n",
       "2    -1.005286  0.314069   2.261630   -1.268489 -0.148433          0   \n",
       "3    -1.122576  1.061872   2.261630   -3.572512 -0.129566          0   \n",
       "4    -1.237520  1.464535   2.261630   -3.717953 -0.082399          0   \n",
       "\n",
       "   south_wind  west_wind  spring  summer  winter  evening  morning  night  \\\n",
       "0           0          1       0       0       1        1        0      0   \n",
       "1           0          1       0       0       1        0        0      1   \n",
       "2           0          1       0       0       1        0        0      1   \n",
       "3           0          1       0       0       1        0        0      1   \n",
       "4           0          1       0       0       1        0        0      1   \n",
       "\n",
       "   workday  \n",
       "0        1  \n",
       "1        1  \n",
       "2        1  \n",
       "3        1  \n",
       "4        1  "
      ]
     },
     "execution_count": 80,
     "metadata": {},
     "output_type": "execute_result"
    }
   ],
   "source": [
    "scaled_inputs.head()"
   ]
  },
  {
   "cell_type": "code",
   "execution_count": 81,
   "metadata": {},
   "outputs": [],
   "source": [
    "targets = df_prep['PM2']"
   ]
  },
  {
   "cell_type": "code",
   "execution_count": 82,
   "metadata": {},
   "outputs": [
    {
     "name": "stdout",
     "output_type": "stream",
     "text": [
      "(13355, 15) (13355,)\n"
     ]
    }
   ],
   "source": [
    "# Train Test Split\n",
    "from sklearn.model_selection import train_test_split\n",
    "\n",
    "X_train, X_test, y_train, y_test = train_test_split(scaled_inputs, targets, test_size=0.2, random_state=101)\n",
    "\n",
    "print(X_train.shape, y_train.shape)"
   ]
  },
  {
   "cell_type": "code",
   "execution_count": null,
   "metadata": {},
   "outputs": [],
   "source": []
  },
  {
   "cell_type": "code",
   "execution_count": 83,
   "metadata": {},
   "outputs": [
    {
     "data": {
      "text/plain": [
       "0.429441658310762"
      ]
     },
     "execution_count": 83,
     "metadata": {},
     "output_type": "execute_result"
    }
   ],
   "source": [
    "# Linear regression with sklearn\n",
    "\n",
    "from sklearn.linear_model import LinearRegression\n",
    "\n",
    "reg = LinearRegression()\n",
    "\n",
    "reg.fit(X_train,y_train)\n",
    "\n",
    "reg.score(X_train,y_train)"
   ]
  },
  {
   "cell_type": "code",
   "execution_count": 84,
   "metadata": {},
   "outputs": [
    {
     "data": {
      "text/html": [
       "<div>\n",
       "<style scoped>\n",
       "    .dataframe tbody tr th:only-of-type {\n",
       "        vertical-align: middle;\n",
       "    }\n",
       "\n",
       "    .dataframe tbody tr th {\n",
       "        vertical-align: top;\n",
       "    }\n",
       "\n",
       "    .dataframe thead th {\n",
       "        text-align: right;\n",
       "    }\n",
       "</style>\n",
       "<table border=\"1\" class=\"dataframe\">\n",
       "  <thead>\n",
       "    <tr style=\"text-align: right;\">\n",
       "      <th></th>\n",
       "      <th>Feature name</th>\n",
       "      <th>Coefficient</th>\n",
       "    </tr>\n",
       "  </thead>\n",
       "  <tbody>\n",
       "    <tr>\n",
       "      <td>0</td>\n",
       "      <td>temperature</td>\n",
       "      <td>-9.633167</td>\n",
       "    </tr>\n",
       "    <tr>\n",
       "      <td>1</td>\n",
       "      <td>humidity</td>\n",
       "      <td>-1.923484</td>\n",
       "    </tr>\n",
       "    <tr>\n",
       "      <td>2</td>\n",
       "      <td>windSpeed</td>\n",
       "      <td>-7.324406</td>\n",
       "    </tr>\n",
       "    <tr>\n",
       "      <td>3</td>\n",
       "      <td>visibility</td>\n",
       "      <td>-3.607964</td>\n",
       "    </tr>\n",
       "    <tr>\n",
       "      <td>4</td>\n",
       "      <td>ozone</td>\n",
       "      <td>-3.980264</td>\n",
       "    </tr>\n",
       "    <tr>\n",
       "      <td>5</td>\n",
       "      <td>east_wind</td>\n",
       "      <td>7.847451</td>\n",
       "    </tr>\n",
       "    <tr>\n",
       "      <td>6</td>\n",
       "      <td>south_wind</td>\n",
       "      <td>6.805115</td>\n",
       "    </tr>\n",
       "    <tr>\n",
       "      <td>7</td>\n",
       "      <td>west_wind</td>\n",
       "      <td>6.768344</td>\n",
       "    </tr>\n",
       "    <tr>\n",
       "      <td>8</td>\n",
       "      <td>spring</td>\n",
       "      <td>4.256062</td>\n",
       "    </tr>\n",
       "    <tr>\n",
       "      <td>9</td>\n",
       "      <td>summer</td>\n",
       "      <td>3.052071</td>\n",
       "    </tr>\n",
       "    <tr>\n",
       "      <td>10</td>\n",
       "      <td>winter</td>\n",
       "      <td>8.789652</td>\n",
       "    </tr>\n",
       "    <tr>\n",
       "      <td>11</td>\n",
       "      <td>evening</td>\n",
       "      <td>1.648724</td>\n",
       "    </tr>\n",
       "    <tr>\n",
       "      <td>12</td>\n",
       "      <td>morning</td>\n",
       "      <td>7.291010</td>\n",
       "    </tr>\n",
       "    <tr>\n",
       "      <td>13</td>\n",
       "      <td>night</td>\n",
       "      <td>4.543107</td>\n",
       "    </tr>\n",
       "    <tr>\n",
       "      <td>14</td>\n",
       "      <td>workday</td>\n",
       "      <td>2.219981</td>\n",
       "    </tr>\n",
       "  </tbody>\n",
       "</table>\n",
       "</div>"
      ],
      "text/plain": [
       "   Feature name  Coefficient\n",
       "0   temperature    -9.633167\n",
       "1      humidity    -1.923484\n",
       "2     windSpeed    -7.324406\n",
       "3    visibility    -3.607964\n",
       "4         ozone    -3.980264\n",
       "5     east_wind     7.847451\n",
       "6    south_wind     6.805115\n",
       "7     west_wind     6.768344\n",
       "8        spring     4.256062\n",
       "9        summer     3.052071\n",
       "10       winter     8.789652\n",
       "11      evening     1.648724\n",
       "12      morning     7.291010\n",
       "13        night     4.543107\n",
       "14      workday     2.219981"
      ]
     },
     "execution_count": 84,
     "metadata": {},
     "output_type": "execute_result"
    }
   ],
   "source": [
    "# create summary table with all coefficients and intercept\n",
    "feature_name = unscaled_inputs.columns.values\n",
    "\n",
    "summary_table = pd.DataFrame(columns = ['Feature name'],data = feature_name)\n",
    "\n",
    "summary_table['Coefficient'] = np.transpose(reg.coef_)\n",
    "\n",
    "summary_table"
   ]
  },
  {
   "cell_type": "code",
   "execution_count": 85,
   "metadata": {},
   "outputs": [
    {
     "data": {
      "text/html": [
       "<div>\n",
       "<style scoped>\n",
       "    .dataframe tbody tr th:only-of-type {\n",
       "        vertical-align: middle;\n",
       "    }\n",
       "\n",
       "    .dataframe tbody tr th {\n",
       "        vertical-align: top;\n",
       "    }\n",
       "\n",
       "    .dataframe thead th {\n",
       "        text-align: right;\n",
       "    }\n",
       "</style>\n",
       "<table border=\"1\" class=\"dataframe\">\n",
       "  <thead>\n",
       "    <tr style=\"text-align: right;\">\n",
       "      <th></th>\n",
       "      <th>Feature name</th>\n",
       "      <th>Coefficient</th>\n",
       "    </tr>\n",
       "  </thead>\n",
       "  <tbody>\n",
       "    <tr>\n",
       "      <td>0</td>\n",
       "      <td>Intercept</td>\n",
       "      <td>11.792468</td>\n",
       "    </tr>\n",
       "    <tr>\n",
       "      <td>1</td>\n",
       "      <td>temperature</td>\n",
       "      <td>-9.633167</td>\n",
       "    </tr>\n",
       "    <tr>\n",
       "      <td>2</td>\n",
       "      <td>humidity</td>\n",
       "      <td>-1.923484</td>\n",
       "    </tr>\n",
       "    <tr>\n",
       "      <td>3</td>\n",
       "      <td>windSpeed</td>\n",
       "      <td>-7.324406</td>\n",
       "    </tr>\n",
       "    <tr>\n",
       "      <td>4</td>\n",
       "      <td>visibility</td>\n",
       "      <td>-3.607964</td>\n",
       "    </tr>\n",
       "    <tr>\n",
       "      <td>5</td>\n",
       "      <td>ozone</td>\n",
       "      <td>-3.980264</td>\n",
       "    </tr>\n",
       "    <tr>\n",
       "      <td>6</td>\n",
       "      <td>east_wind</td>\n",
       "      <td>7.847451</td>\n",
       "    </tr>\n",
       "    <tr>\n",
       "      <td>7</td>\n",
       "      <td>south_wind</td>\n",
       "      <td>6.805115</td>\n",
       "    </tr>\n",
       "    <tr>\n",
       "      <td>8</td>\n",
       "      <td>west_wind</td>\n",
       "      <td>6.768344</td>\n",
       "    </tr>\n",
       "    <tr>\n",
       "      <td>9</td>\n",
       "      <td>spring</td>\n",
       "      <td>4.256062</td>\n",
       "    </tr>\n",
       "    <tr>\n",
       "      <td>10</td>\n",
       "      <td>summer</td>\n",
       "      <td>3.052071</td>\n",
       "    </tr>\n",
       "    <tr>\n",
       "      <td>11</td>\n",
       "      <td>winter</td>\n",
       "      <td>8.789652</td>\n",
       "    </tr>\n",
       "    <tr>\n",
       "      <td>12</td>\n",
       "      <td>evening</td>\n",
       "      <td>1.648724</td>\n",
       "    </tr>\n",
       "    <tr>\n",
       "      <td>13</td>\n",
       "      <td>morning</td>\n",
       "      <td>7.291010</td>\n",
       "    </tr>\n",
       "    <tr>\n",
       "      <td>14</td>\n",
       "      <td>night</td>\n",
       "      <td>4.543107</td>\n",
       "    </tr>\n",
       "    <tr>\n",
       "      <td>15</td>\n",
       "      <td>workday</td>\n",
       "      <td>2.219981</td>\n",
       "    </tr>\n",
       "  </tbody>\n",
       "</table>\n",
       "</div>"
      ],
      "text/plain": [
       "   Feature name  Coefficient\n",
       "0     Intercept    11.792468\n",
       "1   temperature    -9.633167\n",
       "2      humidity    -1.923484\n",
       "3     windSpeed    -7.324406\n",
       "4    visibility    -3.607964\n",
       "5         ozone    -3.980264\n",
       "6     east_wind     7.847451\n",
       "7    south_wind     6.805115\n",
       "8     west_wind     6.768344\n",
       "9        spring     4.256062\n",
       "10       summer     3.052071\n",
       "11       winter     8.789652\n",
       "12      evening     1.648724\n",
       "13      morning     7.291010\n",
       "14        night     4.543107\n",
       "15      workday     2.219981"
      ]
     },
     "execution_count": 85,
     "metadata": {},
     "output_type": "execute_result"
    }
   ],
   "source": [
    "summary_table.index = summary_table.index + 1 \n",
    "\n",
    "summary_table.loc[0] = ['Intercept',reg.intercept_]\n",
    "\n",
    "summary_table = summary_table.sort_index()\n",
    "\n",
    "summary_table"
   ]
  },
  {
   "cell_type": "code",
   "execution_count": 86,
   "metadata": {},
   "outputs": [
    {
     "data": {
      "text/plain": [
       "0.4304926178859221"
      ]
     },
     "execution_count": 86,
     "metadata": {},
     "output_type": "execute_result"
    }
   ],
   "source": [
    "# model score on test data\n",
    "reg.score(X_test,y_test)"
   ]
  },
  {
   "cell_type": "code",
   "execution_count": 87,
   "metadata": {},
   "outputs": [
    {
     "data": {
      "image/png": "[encoded data removed]",
      "text/plain": [
       "<Figure size 432x288 with 1 Axes>"
      ]
     },
     "metadata": {
      "needs_background": "light"
     },
     "output_type": "display_data"
    }
   ],
   "source": [
    "plt.scatter(reg.predict(X_test),y_test);"
   ]
  },
  {
   "cell_type": "code",
   "execution_count": 88,
   "metadata": {},
   "outputs": [
    {
     "data": {
      "image/png": "[encoded data removed]",
      "text/plain": [
       "<Figure size 432x288 with 1 Axes>"
      ]
     },
     "metadata": {
      "needs_background": "light"
     },
     "output_type": "display_data"
    }
   ],
   "source": [
    "# create dataframe with predicted and real values from the test set\n",
    "results = pd.DataFrame(data=reg.predict(X_test), columns=['prediction'])\n",
    "results['real'] = y_test.values\n",
    "results['difference']=results['real']-results['prediction']\n",
    "\n",
    "# distribution of the differences\n",
    "plt.hist(results['difference'],bins=30);"
   ]
  },
  {
   "cell_type": "code",
   "execution_count": 89,
   "metadata": {},
   "outputs": [],
   "source": [
    "results['pred_lev'] = results['prediction'].apply(pol_levels)\n",
    "results['real_lev'] = results['real'].apply(pol_levels)\n",
    "results['diff_lev']=results['real_lev']-results['pred_lev']"
   ]
  },
  {
   "cell_type": "code",
   "execution_count": 90,
   "metadata": {},
   "outputs": [
    {
     "data": {
      "text/plain": [
       " 0    1791\n",
       "-1     862\n",
       " 1     599\n",
       " 2      51\n",
       "-2      36\n",
       "Name: diff_lev, dtype: int64"
      ]
     },
     "execution_count": 90,
     "metadata": {},
     "output_type": "execute_result"
    }
   ],
   "source": [
    "results['diff_lev'].value_counts()"
   ]
  },
  {
   "cell_type": "code",
   "execution_count": 91,
   "metadata": {},
   "outputs": [
    {
     "data": {
      "text/plain": [
       "0.5363881401617251"
      ]
     },
     "execution_count": 91,
     "metadata": {},
     "output_type": "execute_result"
    }
   ],
   "source": [
    "# percent of correctly predicted pollution levels\n",
    "results[results['diff_lev'] == 0].shape[0]/results.shape[0]"
   ]
  },
  {
   "cell_type": "code",
   "execution_count": 92,
   "metadata": {},
   "outputs": [
    {
     "data": {
      "text/html": [
       "<div>\n",
       "<style scoped>\n",
       "    .dataframe tbody tr th:only-of-type {\n",
       "        vertical-align: middle;\n",
       "    }\n",
       "\n",
       "    .dataframe tbody tr th {\n",
       "        vertical-align: top;\n",
       "    }\n",
       "\n",
       "    .dataframe thead th {\n",
       "        text-align: right;\n",
       "    }\n",
       "</style>\n",
       "<table border=\"1\" class=\"dataframe\">\n",
       "  <thead>\n",
       "    <tr style=\"text-align: right;\">\n",
       "      <th></th>\n",
       "      <th>prediction</th>\n",
       "      <th>real</th>\n",
       "      <th>difference</th>\n",
       "      <th>pred_lev</th>\n",
       "      <th>real_lev</th>\n",
       "      <th>diff_lev</th>\n",
       "    </tr>\n",
       "  </thead>\n",
       "  <tbody>\n",
       "    <tr>\n",
       "      <td>0</td>\n",
       "      <td>34.503450</td>\n",
       "      <td>14.4</td>\n",
       "      <td>-20.103450</td>\n",
       "      <td>1</td>\n",
       "      <td>1</td>\n",
       "      <td>0</td>\n",
       "    </tr>\n",
       "    <tr>\n",
       "      <td>1</td>\n",
       "      <td>15.451534</td>\n",
       "      <td>16.7</td>\n",
       "      <td>1.248466</td>\n",
       "      <td>1</td>\n",
       "      <td>1</td>\n",
       "      <td>0</td>\n",
       "    </tr>\n",
       "    <tr>\n",
       "      <td>2</td>\n",
       "      <td>43.925736</td>\n",
       "      <td>125.8</td>\n",
       "      <td>81.874264</td>\n",
       "      <td>2</td>\n",
       "      <td>3</td>\n",
       "      <td>1</td>\n",
       "    </tr>\n",
       "    <tr>\n",
       "      <td>3</td>\n",
       "      <td>30.477022</td>\n",
       "      <td>10.5</td>\n",
       "      <td>-19.977022</td>\n",
       "      <td>1</td>\n",
       "      <td>0</td>\n",
       "      <td>-1</td>\n",
       "    </tr>\n",
       "    <tr>\n",
       "      <td>4</td>\n",
       "      <td>32.816036</td>\n",
       "      <td>22.1</td>\n",
       "      <td>-10.716036</td>\n",
       "      <td>1</td>\n",
       "      <td>1</td>\n",
       "      <td>0</td>\n",
       "    </tr>\n",
       "  </tbody>\n",
       "</table>\n",
       "</div>"
      ],
      "text/plain": [
       "   prediction   real  difference  pred_lev  real_lev  diff_lev\n",
       "0   34.503450   14.4  -20.103450         1         1         0\n",
       "1   15.451534   16.7    1.248466         1         1         0\n",
       "2   43.925736  125.8   81.874264         2         3         1\n",
       "3   30.477022   10.5  -19.977022         1         0        -1\n",
       "4   32.816036   22.1  -10.716036         1         1         0"
      ]
     },
     "execution_count": 92,
     "metadata": {},
     "output_type": "execute_result"
    }
   ],
   "source": [
    "results.head()"
   ]
  },
  {
   "cell_type": "code",
   "execution_count": 93,
   "metadata": {},
   "outputs": [
    {
     "data": {
      "text/html": [
       "<div>\n",
       "<style scoped>\n",
       "    .dataframe tbody tr th:only-of-type {\n",
       "        vertical-align: middle;\n",
       "    }\n",
       "\n",
       "    .dataframe tbody tr th {\n",
       "        vertical-align: top;\n",
       "    }\n",
       "\n",
       "    .dataframe thead th {\n",
       "        text-align: right;\n",
       "    }\n",
       "</style>\n",
       "<table border=\"1\" class=\"dataframe\">\n",
       "  <thead>\n",
       "    <tr style=\"text-align: right;\">\n",
       "      <th></th>\n",
       "      <th>prediction</th>\n",
       "      <th>real</th>\n",
       "      <th>difference</th>\n",
       "      <th>pred_lev</th>\n",
       "      <th>real_lev</th>\n",
       "      <th>diff_lev</th>\n",
       "    </tr>\n",
       "  </thead>\n",
       "  <tbody>\n",
       "    <tr>\n",
       "      <td>count</td>\n",
       "      <td>3339.000000</td>\n",
       "      <td>3339.000000</td>\n",
       "      <td>3339.000000</td>\n",
       "      <td>3339.000000</td>\n",
       "      <td>3339.000000</td>\n",
       "      <td>3339.000000</td>\n",
       "    </tr>\n",
       "    <tr>\n",
       "      <td>mean</td>\n",
       "      <td>26.651815</td>\n",
       "      <td>26.660677</td>\n",
       "      <td>0.008862</td>\n",
       "      <td>1.153639</td>\n",
       "      <td>1.083857</td>\n",
       "      <td>-0.069781</td>\n",
       "    </tr>\n",
       "    <tr>\n",
       "      <td>std</td>\n",
       "      <td>14.170086</td>\n",
       "      <td>21.851714</td>\n",
       "      <td>16.490550</td>\n",
       "      <td>0.699692</td>\n",
       "      <td>0.867584</td>\n",
       "      <td>0.732851</td>\n",
       "    </tr>\n",
       "    <tr>\n",
       "      <td>min</td>\n",
       "      <td>-21.249296</td>\n",
       "      <td>3.000000</td>\n",
       "      <td>-43.503993</td>\n",
       "      <td>0.000000</td>\n",
       "      <td>0.000000</td>\n",
       "      <td>-2.000000</td>\n",
       "    </tr>\n",
       "    <tr>\n",
       "      <td>25%</td>\n",
       "      <td>16.677911</td>\n",
       "      <td>12.300000</td>\n",
       "      <td>-10.276997</td>\n",
       "      <td>1.000000</td>\n",
       "      <td>1.000000</td>\n",
       "      <td>-1.000000</td>\n",
       "    </tr>\n",
       "    <tr>\n",
       "      <td>50%</td>\n",
       "      <td>25.139010</td>\n",
       "      <td>19.400000</td>\n",
       "      <td>-2.090505</td>\n",
       "      <td>1.000000</td>\n",
       "      <td>1.000000</td>\n",
       "      <td>0.000000</td>\n",
       "    </tr>\n",
       "    <tr>\n",
       "      <td>75%</td>\n",
       "      <td>35.884873</td>\n",
       "      <td>33.300000</td>\n",
       "      <td>7.120949</td>\n",
       "      <td>2.000000</td>\n",
       "      <td>1.000000</td>\n",
       "      <td>0.000000</td>\n",
       "    </tr>\n",
       "    <tr>\n",
       "      <td>max</td>\n",
       "      <td>73.226425</td>\n",
       "      <td>142.400000</td>\n",
       "      <td>88.499126</td>\n",
       "      <td>3.000000</td>\n",
       "      <td>3.000000</td>\n",
       "      <td>2.000000</td>\n",
       "    </tr>\n",
       "  </tbody>\n",
       "</table>\n",
       "</div>"
      ],
      "text/plain": [
       "        prediction         real   difference     pred_lev     real_lev  \\\n",
       "count  3339.000000  3339.000000  3339.000000  3339.000000  3339.000000   \n",
       "mean     26.651815    26.660677     0.008862     1.153639     1.083857   \n",
       "std      14.170086    21.851714    16.490550     0.699692     0.867584   \n",
       "min     -21.249296     3.000000   -43.503993     0.000000     0.000000   \n",
       "25%      16.677911    12.300000   -10.276997     1.000000     1.000000   \n",
       "50%      25.139010    19.400000    -2.090505     1.000000     1.000000   \n",
       "75%      35.884873    33.300000     7.120949     2.000000     1.000000   \n",
       "max      73.226425   142.400000    88.499126     3.000000     3.000000   \n",
       "\n",
       "          diff_lev  \n",
       "count  3339.000000  \n",
       "mean     -0.069781  \n",
       "std       0.732851  \n",
       "min      -2.000000  \n",
       "25%      -1.000000  \n",
       "50%       0.000000  \n",
       "75%       0.000000  \n",
       "max       2.000000  "
      ]
     },
     "execution_count": 93,
     "metadata": {},
     "output_type": "execute_result"
    }
   ],
   "source": [
    "results.describe()"
   ]
  }
 ],
 "metadata": {
  "kernelspec": {
   "display_name": "Python 3",
   "language": "python",
   "name": "python3"
  },
  "language_info": {
   "codemirror_mode": {
    "name": "ipython",
    "version": 3
   },
   "file_extension": ".py",
   "mimetype": "text/x-python",
   "name": "python",
   "nbconvert_exporter": "python",
   "pygments_lexer": "ipython3",
   "version": "3.7.4"
  }
 },
 "nbformat": 4,
 "nbformat_minor": 2
}
