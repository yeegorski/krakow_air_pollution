{
 "cells": [
  {
   "cell_type": "code",
   "execution_count": 1,
   "metadata": {},
   "outputs": [],
   "source": [
    "# import necessary libraries\n",
    "import pandas as pd\n",
    "import requests"
   ]
  },
  {
   "cell_type": "code",
   "execution_count": null,
   "metadata": {},
   "outputs": [],
   "source": [
    "# scrap the hourly weather data\n",
    "url = \"https://api.ambeedata.com/weather/history/by-lat-lng\"\n",
    "querystring = {\"lat\":\"50.057678\",\"lng\":\"19.926189\",\"from\":\"2019-01-01 00:00:00\",\"to\":\"2020-12-24 00:00:00\"}\n",
    "headers = {\n",
    "    'x-api-key': \"\",\n",
    "    'Content-type': \"application/json\"\n",
    "    }\n",
    "response = requests.request(\"GET\", url, headers=headers, params=querystring)"
   ]
  },
  {
   "cell_type": "code",
   "execution_count": 9,
   "metadata": {},
   "outputs": [],
   "source": [
    "# create a dictionary with the scraping results\n",
    "dct = json.loads(response.text)"
   ]
  },
  {
   "cell_type": "code",
   "execution_count": null,
   "metadata": {},
   "outputs": [],
   "source": [
    "# create a dataframe\n",
    "data = pd.DataFrame(data=dct['data']['history'],columns=[\"time\",\"temperature\",\"apparentTemperature\",\"dewPoint\",\"humidity\",\"pressure\",\"windSpeed\",\"windGust\",\"windBearing\",\"cloudCover\",\"visibility\",\"ozone\"])"
   ]
  },
  {
   "cell_type": "code",
   "execution_count": null,
   "metadata": {},
   "outputs": [],
   "source": [
    "# save the data to a csv file \n",
    "data.to_csv('weather 01.2019 till 12.2020.csv')"
   ]
  }
 ],
 "metadata": {
  "kernelspec": {
   "display_name": "Python 3",
   "language": "python",
   "name": "python3"
  },
  "language_info": {
   "codemirror_mode": {
    "name": "ipython",
    "version": 3
   },
   "file_extension": ".py",
   "mimetype": "text/x-python",
   "name": "python",
   "nbconvert_exporter": "python",
   "pygments_lexer": "ipython3",
   "version": "3.7.4"
  }
 },
 "nbformat": 4,
 "nbformat_minor": 2
}
